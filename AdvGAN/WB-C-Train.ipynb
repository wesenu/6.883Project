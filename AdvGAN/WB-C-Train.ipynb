{
 "cells": [
  {
   "cell_type": "code",
   "execution_count": 1,
   "metadata": {},
   "outputs": [
    {
     "data": {
      "application/javascript": [
       "IPython.OutputArea.prototype._should_scroll = function(lines) {\n",
       "    return false;\n",
       "}"
      ],
      "text/plain": [
       "<IPython.core.display.Javascript object>"
      ]
     },
     "metadata": {},
     "output_type": "display_data"
    }
   ],
   "source": [
    "%%javascript\n",
    "IPython.OutputArea.prototype._should_scroll = function(lines) {\n",
    "    return false;\n",
    "}"
   ]
  },
  {
   "cell_type": "code",
   "execution_count": 2,
   "metadata": {},
   "outputs": [
    {
     "name": "stderr",
     "output_type": "stream",
     "text": [
      "/usr/local/lib/python3.5/dist-packages/h5py/__init__.py:36: FutureWarning: Conversion of the second argument of issubdtype from `float` to `np.floating` is deprecated. In future, it will be treated as `np.float64 == np.dtype(float).type`.\n",
      "  from ._conv import register_converters as _register_converters\n",
      "Using TensorFlow backend.\n"
     ]
    }
   ],
   "source": [
    "# MNIST Data Pre-processing\n",
    "import numpy as np\n",
    "import keras\n",
    "import tensorflow as tf\n",
    "from keras.datasets import mnist\n",
    "from keras.utils import np_utils  # utilities for one-hot encoding of ground truth values\n",
    "\n",
    "import os\n",
    "os.environ[\"CUDA_VISIBLE_DEVICES\"]=\"0\"\n",
    "\n",
    "(x_train, y_train), (x_test, y_test) = mnist.load_data()\n",
    "x_train = x_train.reshape(x_train.shape[0], 28, 28, 1)\n",
    "x_test = x_test.reshape(x_test.shape[0], 28, 28, 1)\n",
    "\n",
    "x_train = x_train.astype('float32')\n",
    "x_test = x_test.astype('float32')\n",
    "x_train /= 255\n",
    "x_test /= 255\n",
    "y_train = np_utils.to_categorical(y_train, 10).astype(np.float32)\n",
    "y_test = np_utils.to_categorical(y_test, 10).astype(np.float32)\n",
    "\n",
    "%load_ext autoreload\n",
    "%autoreload 2"
   ]
  },
  {
   "cell_type": "code",
   "execution_count": 38,
   "metadata": {},
   "outputs": [
    {
     "name": "stderr",
     "output_type": "stream",
     "text": [
      "/usr/local/lib/python3.5/dist-packages/keras/engine/training.py:975: UserWarning: Discrepancy between trainable weights and collected trainable weights, did you set `model.trainable` without calling `model.compile` after ?\n",
      "  'Discrepancy between trainable weights and collected trainable'\n"
     ]
    },
    {
     "name": "stdout",
     "output_type": "stream",
     "text": [
      "Epoch number: 0 ; Loss [4.432431, 0.70399237, 0.83270985, 0.41260386]\n",
      "Epoch number: 1 ; Loss [3.9050698, 0.8563978, 0.7832609, 0.29643005]\n",
      "Epoch number: 2 ; Loss [3.7320113, 0.9637579, 0.7903248, 0.2375208]\n",
      "Epoch number: 3 ; Loss [3.487907, 0.9711309, 0.7585534, 0.19993384]\n",
      "Epoch number: 4 ; Loss [3.260912, 0.95269305, 0.77734125, 0.1507073]\n",
      "Epoch number: 5 ; Loss [3.0448847, 0.9456939, 0.754051, 0.11821778]\n",
      "Epoch number: 6 ; Loss [3.0508823, 0.9608732, 0.8091073, 0.09435891]\n",
      "Epoch number: 7 ; Loss [3.0247355, 0.959484, 0.8355286, 0.078838825]\n",
      "Epoch number: 8 ; Loss [2.9460828, 0.94227934, 0.84406614, 0.06313422]\n",
      "Epoch number: 9 ; Loss [2.8862038, 0.9361166, 0.84813285, 0.050764255]\n",
      "Epoch number: 10 ; Loss [2.8159595, 0.9518533, 0.81179553, 0.048103053]\n",
      "Epoch number: 11 ; Loss [2.929098, 0.94549006, 0.8860272, 0.04231069]\n",
      "Epoch number: 12 ; Loss [2.8997998, 0.95053184, 0.87982833, 0.037922308]\n",
      "Epoch number: 13 ; Loss [2.830335, 0.9492817, 0.8516586, 0.035547204]\n",
      "Epoch number: 14 ; Loss [2.9266539, 0.9668239, 0.897859, 0.032822415]\n",
      "Epoch number: 15 ; Loss [2.8558223, 0.96839863, 0.87045556, 0.029302485]\n",
      "Epoch number: 16 ; Loss [2.7957656, 0.9661005, 0.8518765, 0.02518246]\n",
      "Epoch number: 17 ; Loss [2.8600233, 0.9705729, 0.8881372, 0.022635177]\n",
      "Epoch number: 18 ; Loss [2.8804097, 0.97632045, 0.90008116, 0.02078539]\n",
      "Epoch number: 19 ; Loss [2.874063, 0.97508895, 0.90068394, 0.019521259]\n",
      "Epoch number: 20 ; Loss [2.7378786, 0.972563, 0.8325386, 0.020047676]\n",
      "Epoch number: 21 ; Loss [2.707656, 0.97544336, 0.8147298, 0.020550605]\n",
      "Epoch number: 22 ; Loss [2.659389, 0.97819346, 0.7825963, 0.023200592]\n",
      "Epoch number: 23 ; Loss [2.847773, 0.9782703, 0.86547303, 0.02771135]\n",
      "Epoch number: 24 ; Loss [2.7254739, 0.9788248, 0.80221, 0.02844584]\n",
      "Epoch number: 25 ; Loss [2.7867413, 0.97954005, 0.82770336, 0.030358877]\n",
      "Epoch number: 26 ; Loss [2.762861, 0.97857445, 0.8205311, 0.0286449]\n",
      "Epoch number: 27 ; Loss [2.8351576, 0.9753837, 0.8577806, 0.02884253]\n",
      "Epoch number: 28 ; Loss [2.794374, 0.9744921, 0.84349316, 0.026579112]\n",
      "Epoch number: 29 ; Loss [2.7091436, 0.97841513, 0.8026695, 0.025077906]\n",
      "Epoch number: 30 ; Loss [2.8414059, 0.9777167, 0.8769078, 0.021974683]\n",
      "Epoch number: 31 ; Loss [2.7811186, 0.9819193, 0.8485034, 0.020438515]\n",
      "Epoch number: 32 ; Loss [2.7360194, 0.983563, 0.8295156, 0.018685047]\n",
      "Epoch number: 33 ; Loss [2.780669, 0.9853493, 0.8552926, 0.0169469]\n",
      "Epoch number: 34 ; Loss [2.7347372, 0.98521006, 0.83608484, 0.0154714985]\n",
      "Epoch number: 35 ; Loss [2.7657256, 0.9862696, 0.85331464, 0.014565397]\n",
      "Epoch number: 36 ; Loss [2.8249867, 0.98714226, 0.8835103, 0.0141647775]\n",
      "Epoch number: 37 ; Loss [2.8000538, 0.9876102, 0.8724892, 0.013493034]\n",
      "Epoch number: 38 ; Loss [2.767768, 0.9893297, 0.855584, 0.013454038]\n",
      "Epoch number: 39 ; Loss [2.7209206, 0.9877882, 0.8321145, 0.0137807075]\n",
      "Epoch number: 40 ; Loss [2.7139854, 0.9899601, 0.82697, 0.014017118]\n",
      "Epoch number: 41 ; Loss [2.683935, 0.98902154, 0.81199884, 0.014183158]\n",
      "Epoch number: 42 ; Loss [2.7899482, 0.9924493, 0.86191297, 0.0147346]\n",
      "Epoch number: 43 ; Loss [2.7363265, 0.99183154, 0.83507407, 0.014869375]\n",
      "Epoch number: 44 ; Loss [2.716178, 0.9928742, 0.8241942, 0.014983063]\n",
      "Epoch number: 45 ; Loss [2.7291908, 0.99283326, 0.8289813, 0.015678972]\n",
      "Epoch number: 46 ; Loss [2.7054892, 0.9941838, 0.8157127, 0.01597598]\n",
      "Epoch number: 47 ; Loss [2.7368057, 0.9943828, 0.83281803, 0.015357372]\n",
      "Epoch number: 48 ; Loss [2.7822466, 0.99427426, 0.8587192, 0.014106769]\n",
      "Epoch number: 49 ; Loss [2.6961641, 0.99397135, 0.81841016, 0.013074472]\n",
      "Epoch number: 50 ; Loss [2.68458, 0.99428755, 0.8138702, 0.012510441]\n",
      "Epoch number: 51 ; Loss [2.5770767, 0.9934451, 0.76050603, 0.012523871]\n",
      "Epoch number: 52 ; Loss [2.707727, 0.99432045, 0.8260953, 0.012243176]\n",
      "Epoch number: 53 ; Loss [2.6606176, 0.99334174, 0.80384976, 0.01191527]\n",
      "Epoch number: 54 ; Loss [2.7684515, 0.99295163, 0.85734105, 0.012163563]\n",
      "Epoch number: 55 ; Loss [2.6960232, 0.99166083, 0.82202804, 0.012061259]\n",
      "Epoch number: 56 ; Loss [2.6699903, 0.99193746, 0.8086437, 0.012153091]\n",
      "Epoch number: 57 ; Loss [2.7134225, 0.9918749, 0.83016634, 0.012242985]\n",
      "Epoch number: 58 ; Loss [2.6593149, 0.9919617, 0.8014877, 0.012875548]\n",
      "Epoch number: 59 ; Loss [2.6368172, 0.992833, 0.7845678, 0.014969746]\n",
      "Epoch number: 60 ; Loss [2.5956619, 0.9928088, 0.7609825, 0.016177606]\n",
      "Epoch number: 61 ; Loss [2.727978, 0.9922985, 0.82608455, 0.016702075]\n",
      "Epoch number: 62 ; Loss [2.7785275, 0.99162745, 0.8523423, 0.016443094]\n",
      "Epoch number: 63 ; Loss [2.8136292, 0.9914018, 0.8677773, 0.017334562]\n",
      "Epoch number: 64 ; Loss [2.6803834, 0.99116325, 0.80178314, 0.017130785]\n",
      "Epoch number: 65 ; Loss [2.6388898, 0.9902915, 0.78277063, 0.016611408]\n",
      "Epoch number: 66 ; Loss [2.5877767, 0.9904758, 0.7618919, 0.014703395]\n",
      "Epoch number: 67 ; Loss [2.6753294, 0.99047756, 0.8060354, 0.0145562235]\n",
      "Epoch number: 68 ; Loss [2.6569178, 0.9901974, 0.7941965, 0.015665472]\n",
      "Epoch number: 69 ; Loss [2.5369058, 0.9882471, 0.73618805, 0.0152565185]\n",
      "Epoch number: 70 ; Loss [2.65299, 0.9883829, 0.7954377, 0.014746366]\n",
      "Epoch number: 71 ; Loss [2.6669855, 0.98701996, 0.80495286, 0.014011946]\n",
      "Epoch number: 72 ; Loss [2.667969, 0.9876215, 0.80812883, 0.012817976]\n",
      "Epoch number: 73 ; Loss [2.652712, 0.98832744, 0.80022824, 0.012785617]\n",
      "Epoch number: 74 ; Loss [2.6871295, 0.9879403, 0.8187841, 0.012324195]\n",
      "Epoch number: 75 ; Loss [2.5936182, 0.98657393, 0.77168244, 0.012735883]\n",
      "Epoch number: 76 ; Loss [2.6169007, 0.98847103, 0.78275883, 0.012582408]\n",
      "Epoch number: 77 ; Loss [2.6835005, 0.9891442, 0.8125231, 0.013862003]\n",
      "Epoch number: 78 ; Loss [2.675608, 0.98937035, 0.79890406, 0.017685905]\n",
      "Epoch number: 79 ; Loss [2.6040168, 0.987467, 0.7532657, 0.022003688]\n",
      "Epoch number: 80 ; Loss [2.516649, 0.987423, 0.70888793, 0.02229002]\n",
      "Epoch number: 81 ; Loss [2.5767238, 0.9869802, 0.7408982, 0.021589432]\n",
      "Epoch number: 82 ; Loss [2.5763934, 0.9798083, 0.74401176, 0.021712286]\n",
      "Epoch number: 83 ; Loss [2.5809653, 0.98484325, 0.7434363, 0.021849852]\n",
      "Epoch number: 84 ; Loss [2.5781903, 0.98804307, 0.7506722, 0.017760586]\n",
      "Epoch number: 85 ; Loss [2.534925, 0.9877308, 0.73963314, 0.013585587]\n",
      "Epoch number: 86 ; Loss [2.5682006, 0.98641735, 0.7617641, 0.011651006]\n",
      "Epoch number: 87 ; Loss [2.6307225, 0.98501945, 0.7948401, 0.011204572]\n",
      "Epoch number: 88 ; Loss [2.589135, 0.98889273, 0.7711316, 0.011595843]\n",
      "Epoch number: 89 ; Loss [2.6196368, 0.9884245, 0.78003824, 0.01422713]\n",
      "Epoch number: 90 ; Loss [2.5981302, 0.9863604, 0.76145625, 0.017771475]\n",
      "Epoch number: 91 ; Loss [2.5461967, 0.9866946, 0.7252501, 0.021800395]\n",
      "Epoch number: 92 ; Loss [2.5795004, 0.98572856, 0.73603183, 0.024341628]\n",
      "Epoch number: 93 ; Loss [2.6261687, 0.98802155, 0.75255024, 0.026609339]\n",
      "Epoch number: 94 ; Loss [2.6148238, 0.9677187, 0.76015687, 0.025358293]\n",
      "Epoch number: 95 ; Loss [2.6824973, 0.9935626, 0.7913001, 0.021266881]\n",
      "Epoch number: 96 ; Loss [2.603689, 0.99430484, 0.75615835, 0.019413475]\n",
      "Epoch number: 97 ; Loss [2.551895, 0.9913489, 0.73260295, 0.019067992]\n",
      "Epoch number: 98 ; Loss [2.6765366, 0.98701656, 0.79427075, 0.020195665]\n",
      "Epoch number: 99 ; Loss [2.6110246, 0.9867289, 0.7513759, 0.024308769]\n"
     ]
    }
   ],
   "source": [
    "from Model import GAN\n",
    "\n",
    "Gan, G, D, F = GAN([28,28,1], 'A', 2, 5)\n",
    "\n",
    "epochs=100\n",
    "batch_size=128\n",
    "\n",
    "target=0\n",
    "\n",
    "x_train_selected = x_train\n",
    "y_train_selected = y_train\n",
    "\n",
    "for cur_epoch in range(epochs):\n",
    "    for discrm_epoch in range(8):\n",
    "        input_batch = x_train_selected[np.random.randint(0, x_train_selected.shape[0], size=int(batch_size)),]\n",
    "        y_discrim = np.ones([batch_size,1])\n",
    "        if discrm_epoch % 2 == 0:\n",
    "            input_batch = np.add(input_batch, G.predict(input_batch))\n",
    "            y_discrim = np.zeros([batch_size,1])\n",
    "        D.train_on_batch(input_batch, y_discrim)\n",
    "        \n",
    "    input_idx = np.random.randint(0, x_train_selected.shape[0], size=int(batch_size))\n",
    "    input_batch = x_train_selected[input_idx,]\n",
    "    y_discrim = np.ones([batch_size,1])\n",
    "    #y_class = y_train_selected[input_idx,]\n",
    "    y_class=np_utils.to_categorical(np.ones(batch_size)*target, 10).astype(np.float32)\n",
    "    y_hinge=np.zeros([batch_size,28,28,1])\n",
    "    scalarloss=Gan.train_on_batch(input_batch, [y_discrim, y_class, y_hinge])\n",
    "    print(\"Epoch number:\",cur_epoch,\"; Loss\",scalarloss)"
   ]
  },
  {
   "cell_type": "code",
   "execution_count": 32,
   "metadata": {},
   "outputs": [],
   "source": [
    "import matplotlib.pyplot as plt\n",
    "import pickle\n",
    "\n",
    "#idx = range(x_train.shape[0])\n",
    "idx = np.random.randint(0, x_train_selected.shape[0], size=int(1000))\n",
    "real = x_train[idx,]\n",
    "fake = real + G.predict(real)\n",
    "pdt = np.argmax(Gan.predict(real)[1], axis=1)\n",
    "label = np.argmax(y_train[idx,], axis=1)\n",
    "idx = (pdt != label)\n",
    "real = real[idx,]\n",
    "fake = fake[idx,]\n",
    "pdt = pdt[idx,]\n",
    "label = label[idx,]\n",
    "idx = np.argsort(np.mean((real-fake)**2, axis=(1,2,3)))\n",
    "real = real[idx,]\n",
    "fake = fake[idx,]\n",
    "pdt = pdt[idx,]\n",
    "label = label[idx,]\n",
    "\n",
    "\n",
    "record = {\n",
    "    'label': label,\n",
    "    'pdt': pdt,\n",
    "    'real': real,\n",
    "    'fake': fake,\n",
    "}\n",
    "\n",
    "with open('WB-C.pickle', 'wb') as handle:\n",
    "    pickle.dump(record, handle, protocol=pickle.HIGHEST_PROTOCOL)"
   ]
  },
  {
   "cell_type": "code",
   "execution_count": 33,
   "metadata": {},
   "outputs": [
    {
     "name": "stdout",
     "output_type": "stream",
     "text": [
      "6 {38: 1, 72: 1, 58: 1, 59: 1, 14: 1, 79: 1}\n"
     ]
    }
   ],
   "source": [
    "unique, counts = np.unique(10*label+pdt, return_counts=True)\n",
    "print(len(unique), dict(zip(unique, counts)))"
   ]
  },
  {
   "cell_type": "code",
   "execution_count": 34,
   "metadata": {},
   "outputs": [
    {
     "data": {
      "text/plain": [
       "<matplotlib.axes._subplots.AxesSubplot at 0x7efb64024f60>"
      ]
     },
     "execution_count": 34,
     "metadata": {},
     "output_type": "execute_result"
    },
    {
     "data": {
      "image/png": "[encoded data removed]",
      "text/plain": [
       "<Figure size 720x576 with 2 Axes>"
      ]
     },
     "metadata": {},
     "output_type": "display_data"
    }
   ],
   "source": [
    "d = dict(zip(unique, counts))\n",
    "n = np.zeros((10,10))\n",
    "m = np.zeros((10,10))\n",
    "for i in range(10):\n",
    "    for j in range(10):\n",
    "        n[i,j] = d[10*i+j] if (10*i+j) in d else int(i!=j)\n",
    "        idx = np.logical_and(label==i, pdt==j)\n",
    "        m[i,j] = np.median(np.mean((real[idx,]-fake[idx,])**2, axis=(1,2,3))) if (10*i+j) in d else float(i!=j)*0.07\n",
    "\n",
    "import seaborn\n",
    "plt.figure(figsize=(10,8))\n",
    "plt.xlabel('adasd')\n",
    "n = np.log(n+1)*0.015\n",
    "seaborn.heatmap(n)\n",
    "#seaborn.heatmap(m)"
   ]
  },
  {
   "cell_type": "code",
   "execution_count": 35,
   "metadata": {},
   "outputs": [
    {
     "name": "stdout",
     "output_type": "stream",
     "text": [
      "6\n"
     ]
    },
    {
     "data": {
      "image/png": "[encoded data removed]",
      "text/plain": [
       "<Figure size 720x720 with 1 Axes>"
      ]
     },
     "metadata": {},
     "output_type": "display_data"
    }
   ],
   "source": [
    "image = np.zeros((280,280,1))\n",
    "\n",
    "c = {}\n",
    "\n",
    "for i in range(10):\n",
    "    for j in range(10):\n",
    "        idx = np.logical_and(label==i, pdt==j)\n",
    "        if (10*i+j) in d and (10*i+j) not in c:\n",
    "            c[10*i+j] = fake[idx][0]\n",
    "        image[28*i:28*(i+1),28*j:28*(j+1),:] = c[10*i+j] if (10*i+j) in c else np.zeros((28,28,1))\n",
    "        \n",
    "print(len(c.keys()))\n",
    "\n",
    "plt.figure(figsize=(10,10))\n",
    "plt.imshow(np.clip(image*255, 0, 255).astype(np.int).reshape(280,280), cmap='gray')\n",
    "plt.show()"
   ]
  },
  {
   "cell_type": "code",
   "execution_count": 94,
   "metadata": {},
   "outputs": [
    {
     "name": "stdout",
     "output_type": "stream",
     "text": [
      "3\n"
     ]
    },
    {
     "data": {
      "image/png": "[encoded data removed]",
      "text/plain": [
       "<Figure size 432x288 with 1 Axes>"
      ]
     },
     "metadata": {},
     "output_type": "display_data"
    },
    {
     "data": {
      "image/png": "[encoded data removed]",
      "text/plain": [
       "<Figure size 432x288 with 1 Axes>"
      ]
     },
     "metadata": {},
     "output_type": "display_data"
    },
    {
     "name": "stdout",
     "output_type": "stream",
     "text": [
      "8\n"
     ]
    },
    {
     "data": {
      "image/png": "[encoded data removed]",
      "text/plain": [
       "<Figure size 432x288 with 1 Axes>"
      ]
     },
     "metadata": {},
     "output_type": "display_data"
    },
    {
     "data": {
      "image/png": "[encoded data removed]",
      "text/plain": [
       "<Figure size 432x288 with 1 Axes>"
      ]
     },
     "metadata": {},
     "output_type": "display_data"
    },
    {
     "name": "stdout",
     "output_type": "stream",
     "text": [
      "7\n"
     ]
    },
    {
     "data": {
      "image/png": "[encoded data removed]",
      "text/plain": [
       "<Figure size 432x288 with 1 Axes>"
      ]
     },
     "metadata": {},
     "output_type": "display_data"
    },
    {
     "data": {
      "image/png": "[encoded data removed]",
      "text/plain": [
       "<Figure size 432x288 with 1 Axes>"
      ]
     },
     "metadata": {},
     "output_type": "display_data"
    }
   ],
   "source": [
    "for k in range(3):\n",
    "    print(pdt[k,])\n",
    "    plt.imshow((real[k,] * 255).astype(np.int).reshape(28,28), cmap='gray')\n",
    "    plt.show()\n",
    "    plt.imshow((fake[k,] * 255).astype(np.int).reshape(28,28), cmap='gray')\n",
    "    plt.show()"
   ]
  },
  {
   "cell_type": "code",
   "execution_count": null,
   "metadata": {},
   "outputs": [],
   "source": [
    "with open('WB-C.pickle', 'rb') as handle:\n",
    "    record = pickle.load(handle)"
   ]
  }
 ],
 "metadata": {
  "kernelspec": {
   "display_name": "Python 3",
   "language": "python",
   "name": "python3"
  },
  "language_info": {
   "codemirror_mode": {
    "name": "ipython",
    "version": 3
   },
   "file_extension": ".py",
   "mimetype": "text/x-python",
   "name": "python",
   "nbconvert_exporter": "python",
   "pygments_lexer": "ipython3",
   "version": "3.5.2"
  }
 },
 "nbformat": 4,
 "nbformat_minor": 2
}
