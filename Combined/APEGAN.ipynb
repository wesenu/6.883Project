{
 "cells": [
  {
   "cell_type": "code",
   "execution_count": 1,
   "metadata": {},
   "outputs": [
    {
     "data": {
      "application/javascript": [
       "IPython.OutputArea.prototype._should_scroll = function(lines) {\n",
       "    return false;\n",
       "}"
      ],
      "text/plain": [
       "<IPython.core.display.Javascript object>"
      ]
     },
     "metadata": {},
     "output_type": "display_data"
    }
   ],
   "source": [
    "%%javascript\n",
    "IPython.OutputArea.prototype._should_scroll = function(lines) {\n",
    "    return false;\n",
    "}"
   ]
  },
  {
   "cell_type": "code",
   "execution_count": 2,
   "metadata": {},
   "outputs": [
    {
     "name": "stderr",
     "output_type": "stream",
     "text": [
      "/usr/local/lib/python3.5/dist-packages/h5py/__init__.py:36: FutureWarning: Conversion of the second argument of issubdtype from `float` to `np.floating` is deprecated. In future, it will be treated as `np.float64 == np.dtype(float).type`.\n",
      "  from ._conv import register_converters as _register_converters\n",
      "Using TensorFlow backend.\n"
     ]
    }
   ],
   "source": [
    "# MNIST Data Pre-processing\n",
    "import numpy as np\n",
    "import keras\n",
    "import tensorflow as tf\n",
    "from keras.datasets import mnist\n",
    "from keras.utils import np_utils  # utilities for one-hot encoding of ground truth values\n",
    "\n",
    "import os\n",
    "os.environ[\"CUDA_VISIBLE_DEVICES\"]=\"1\"\n",
    "\n",
    "target = 0\n",
    "x_clean = np.load('../AdvGAN/samples/WB-B-t%d-clean.npy' % target)\n",
    "x_adv = np.load('../AdvGAN/samples/WB-B-t%d-adv.npy' % target)\n",
    "x_label = np.load('../AdvGAN/samples/WB-B-t%d-label.npy' % target)\n",
    "\n",
    "%load_ext autoreload\n",
    "%autoreload 2"
   ]
  },
  {
   "cell_type": "code",
   "execution_count": 3,
   "metadata": {},
   "outputs": [
    {
     "name": "stderr",
     "output_type": "stream",
     "text": [
      "/usr/local/lib/python3.5/dist-packages/keras/engine/training.py:975: UserWarning: Discrepancy between trainable weights and collected trainable weights, did you set `model.trainable` without calling `model.compile` after ?\n",
      "  'Discrepancy between trainable weights and collected trainable'\n"
     ]
    },
    {
     "name": "stdout",
     "output_type": "stream",
     "text": [
      "Epoch number: 0 ; Loss [4.6970352828502655, 0.028132845, 0.2828901]\n",
      "Epoch number: 1 ; Loss [0.12297499924898148, 0.063889794, 0.23239896]\n",
      "Epoch number: 2 ; Loss [0.18301286932546645, 0.17302912, 0.18988416]\n",
      "Epoch number: 3 ; Loss [0.4591394792078063, 0.0962659, 0.1635281]\n",
      "Epoch number: 4 ; Loss [0.1568309161812067, 0.05883308, 0.14375626]\n",
      "Epoch number: 5 ; Loss [0.05387847125530243, 0.021403784, 0.12865838]\n",
      "Epoch number: 6 ; Loss [0.10374701581895351, 0.017242268, 0.11874392]\n",
      "Epoch number: 7 ; Loss [0.10528480168431997, 0.019653162, 0.11357207]\n",
      "Epoch number: 8 ; Loss [0.07300085015594959, 0.04580777, 0.10749561]\n",
      "Epoch number: 9 ; Loss [0.029817523434758186, 0.04569111, 0.1028259]\n",
      "Epoch number: 10 ; Loss [0.018975975457578897, 0.038328037, 0.09992707]\n",
      "Epoch number: 11 ; Loss [0.03231439832597971, 0.053197663, 0.09572759]\n",
      "Epoch number: 12 ; Loss [0.03327732451725751, 0.03575253, 0.09375656]\n",
      "Epoch number: 13 ; Loss [0.0226708697155118, 0.03576326, 0.09050974]\n",
      "Epoch number: 14 ; Loss [0.025116088683716953, 0.026497658, 0.08865895]\n",
      "Epoch number: 15 ; Loss [0.013398178853094578, 0.018177472, 0.08655128]\n",
      "Epoch number: 16 ; Loss [0.014449403621256351, 0.018029723, 0.08288531]\n",
      "Epoch number: 17 ; Loss [0.0106163308955729, 0.0150702, 0.0812758]\n",
      "Epoch number: 18 ; Loss [0.009650354739278555, 0.014333958, 0.07958622]\n",
      "Epoch number: 19 ; Loss [0.003857016679830849, 0.009686037, 0.07768636]\n",
      "Epoch number: 20 ; Loss [0.008269274607300758, 0.008230212, 0.07724361]\n",
      "Epoch number: 21 ; Loss [0.011595509480684996, 0.009161292, 0.076898545]\n",
      "Epoch number: 22 ; Loss [0.00861440016888082, 0.009531628, 0.07537954]\n",
      "Epoch number: 23 ; Loss [0.002916624187491834, 0.017102867, 0.07538252]\n",
      "Epoch number: 24 ; Loss [0.0038110936293378472, 0.008195536, 0.073785774]\n",
      "Epoch number: 25 ; Loss [0.005914737936109304, 0.00942796, 0.07136392]\n",
      "Epoch number: 26 ; Loss [0.00855262391269207, 0.008573716, 0.06991186]\n",
      "Epoch number: 27 ; Loss [0.0023729975800961256, 0.0076219183, 0.06890806]\n",
      "Epoch number: 28 ; Loss [0.004419334349222481, 0.010680288, 0.069014765]\n",
      "Epoch number: 29 ; Loss [0.00560690020211041, 0.008434255, 0.06722127]\n",
      "Epoch number: 30 ; Loss [0.0052177164470776916, 0.0071948306, 0.06702967]\n",
      "Epoch number: 31 ; Loss [0.006836444139480591, 0.01473422, 0.064734355]\n",
      "Epoch number: 32 ; Loss [0.0029478268697857857, 0.0094328625, 0.06473779]\n",
      "Epoch number: 33 ; Loss [0.0028688993770629168, 0.0050035315, 0.06415087]\n",
      "Epoch number: 34 ; Loss [0.0017892636824399233, 0.0062675364, 0.06363176]\n",
      "Epoch number: 35 ; Loss [0.0023499452508985996, 0.0077147773, 0.064073965]\n",
      "Epoch number: 36 ; Loss [0.001919248141348362, 0.0070328997, 0.06308822]\n",
      "Epoch number: 37 ; Loss [0.0024956591660156846, 0.020390615, 0.061334155]\n",
      "Epoch number: 38 ; Loss [0.00192773254821077, 0.0038647295, 0.06075941]\n",
      "Epoch number: 39 ; Loss [0.0029545784927904606, 0.008770782, 0.060083732]\n",
      "Epoch number: 40 ; Loss [0.0013089983258396387, 0.006860341, 0.05952005]\n",
      "Epoch number: 41 ; Loss [0.0025583900278434157, 0.0030092131, 0.059072606]\n",
      "Epoch number: 42 ; Loss [0.0022704536095261574, 0.0037956012, 0.0585996]\n",
      "Epoch number: 43 ; Loss [0.0036311630392447114, 0.004372931, 0.057818662]\n",
      "Epoch number: 44 ; Loss [0.0031028699595481157, 0.0107076615, 0.05684031]\n",
      "Epoch number: 45 ; Loss [0.0017327844398096204, 0.0050381287, 0.057016097]\n",
      "Epoch number: 46 ; Loss [0.0013859005412086844, 0.0030505643, 0.056969617]\n",
      "Epoch number: 47 ; Loss [0.0022192764445208013, 0.010044616, 0.056111727]\n",
      "Epoch number: 48 ; Loss [0.0016803719336166978, 0.0047672642, 0.05556622]\n",
      "Epoch number: 49 ; Loss [0.0015330580354202539, 0.004628232, 0.05438133]\n",
      "Epoch number: 50 ; Loss [0.0019451459520496428, 0.005971976, 0.05508978]\n",
      "Epoch number: 51 ; Loss [0.0012388628092594445, 0.0041363775, 0.053236343]\n",
      "Epoch number: 52 ; Loss [0.002553805708885193, 0.0042216307, 0.05409356]\n",
      "Epoch number: 53 ; Loss [0.0035284560290165246, 0.005368651, 0.055723786]\n",
      "Epoch number: 54 ; Loss [0.0009810459741856903, 0.0016921123, 0.05422372]\n",
      "Epoch number: 55 ; Loss [0.0010692212381400168, 0.0037346792, 0.052836012]\n",
      "Epoch number: 56 ; Loss [0.0019174383487552404, 0.0048943516, 0.053256147]\n",
      "Epoch number: 57 ; Loss [0.004100459918845445, 0.0017266214, 0.053384613]\n",
      "Epoch number: 58 ; Loss [0.0035047740675508976, 0.007526768, 0.052681275]\n",
      "Epoch number: 59 ; Loss [0.001578356313984841, 0.0036369108, 0.051914856]\n",
      "Epoch number: 60 ; Loss [0.002729659085161984, 0.0020455974, 0.05136613]\n",
      "Epoch number: 61 ; Loss [0.0015414102235808969, 0.0032462478, 0.0503905]\n",
      "Epoch number: 62 ; Loss [0.0009551798284519464, 0.0028100994, 0.051834445]\n",
      "Epoch number: 63 ; Loss [0.001343015203019604, 0.004967843, 0.049050115]\n",
      "Epoch number: 64 ; Loss [0.0009651911677792668, 0.0036552367, 0.048996516]\n",
      "Epoch number: 65 ; Loss [0.0015501181478612125, 0.0037918421, 0.049947668]\n",
      "Epoch number: 66 ; Loss [0.0034075806906912476, 0.007064125, 0.049806245]\n",
      "Epoch number: 67 ; Loss [0.0006712107278872281, 0.0018644265, 0.05040437]\n",
      "Epoch number: 68 ; Loss [0.0013500840868800879, 0.004061395, 0.048711427]\n",
      "Epoch number: 69 ; Loss [0.000856682425364852, 0.0020266154, 0.046747938]\n",
      "Epoch number: 70 ; Loss [0.000751742598367855, 0.0020382102, 0.047635503]\n",
      "Epoch number: 71 ; Loss [0.0019306348985992372, 0.004434691, 0.049408242]\n",
      "Epoch number: 72 ; Loss [0.001013265922665596, 0.0032905983, 0.048430633]\n",
      "Epoch number: 73 ; Loss [0.0006511078390758485, 0.00348473, 0.04936813]\n",
      "Epoch number: 74 ; Loss [0.0012775009381584823, 0.0014822155, 0.051036872]\n",
      "Epoch number: 75 ; Loss [0.00486931495834142, 0.011967271, 0.048567325]\n",
      "Epoch number: 76 ; Loss [0.0012830739724449813, 0.0022189855, 0.049818557]\n",
      "Epoch number: 77 ; Loss [0.0010377953003626317, 0.0073423954, 0.048894152]\n",
      "Epoch number: 78 ; Loss [0.0015595172881148756, 0.0015889563, 0.04780282]\n",
      "Epoch number: 79 ; Loss [0.0009338105155620724, 0.0034388606, 0.0462785]\n",
      "Epoch number: 80 ; Loss [0.001151282063801773, 0.0011002929, 0.046835165]\n",
      "Epoch number: 81 ; Loss [0.0012973732373211533, 0.0035944227, 0.04728388]\n",
      "Epoch number: 82 ; Loss [0.0008670294191688299, 0.002191058, 0.04654769]\n",
      "Epoch number: 83 ; Loss [0.0011754328734241426, 0.0053971214, 0.046397388]\n",
      "Epoch number: 84 ; Loss [0.0009540822939015925, 0.0012986381, 0.046355575]\n",
      "Epoch number: 85 ; Loss [0.001962308131624013, 0.005206913, 0.046298537]\n",
      "Epoch number: 86 ; Loss [0.00046566590026486665, 0.0014738458, 0.044535216]\n",
      "Epoch number: 87 ; Loss [0.002453524328302592, 0.0026981418, 0.0453506]\n",
      "Epoch number: 88 ; Loss [0.0008775092428550124, 0.0019655644, 0.044464894]\n",
      "Epoch number: 89 ; Loss [0.0008974085212685168, 0.0020655175, 0.044211604]\n",
      "Epoch number: 90 ; Loss [0.0009100284078158438, 0.0025433989, 0.04329954]\n",
      "Epoch number: 91 ; Loss [0.0006719611119478941, 0.0020197562, 0.04321605]\n",
      "Epoch number: 92 ; Loss [0.0013009150861762464, 0.002715805, 0.043418378]\n",
      "Epoch number: 93 ; Loss [0.000547384814126417, 0.001780515, 0.042783555]\n",
      "Epoch number: 94 ; Loss [0.0007795977289788425, 0.0011039362, 0.04277862]\n",
      "Epoch number: 95 ; Loss [0.0005231988907326013, 0.0014714208, 0.04296247]\n",
      "Epoch number: 96 ; Loss [0.0006437847332563251, 0.0018396969, 0.041789822]\n",
      "Epoch number: 97 ; Loss [0.0006625043170060962, 0.0014068192, 0.043914992]\n",
      "Epoch number: 98 ; Loss [0.00045854471682105213, 0.001477132, 0.041962944]\n",
      "Epoch number: 99 ; Loss [0.0004552503160084598, 0.0007138413, 0.041531757]\n",
      "Epoch number: 100 ; Loss [0.000680945988278836, 0.0013505804, 0.04193799]\n",
      "Epoch number: 101 ; Loss [0.0007432967540808022, 0.002657084, 0.041793637]\n",
      "Epoch number: 102 ; Loss [0.00038175657391548157, 0.002167339, 0.041585855]\n",
      "Epoch number: 103 ; Loss [0.0009577505989000201, 0.003348163, 0.044024736]\n",
      "Epoch number: 104 ; Loss [0.0008347603143192828, 0.0017285359, 0.042532656]\n",
      "Epoch number: 105 ; Loss [0.0017895343189593405, 0.0014437486, 0.04299356]\n",
      "Epoch number: 106 ; Loss [0.0006007043411955237, 0.0016525293, 0.0408574]\n",
      "Epoch number: 107 ; Loss [0.0010896861203946173, 0.0046346067, 0.040044818]\n",
      "Epoch number: 108 ; Loss [0.0004971360467607155, 0.0011578439, 0.041320547]\n",
      "Epoch number: 109 ; Loss [0.0003923753829440102, 0.0009981224, 0.041042507]\n",
      "Epoch number: 110 ; Loss [0.0006711397436447442, 0.003370551, 0.04053274]\n",
      "Epoch number: 111 ; Loss [0.0005345269382814877, 0.0011985123, 0.041305467]\n"
     ]
    },
    {
     "name": "stdout",
     "output_type": "stream",
     "text": [
      "Epoch number: 112 ; Loss [0.0004085158943780698, 0.0033539562, 0.04181934]\n",
      "Epoch number: 113 ; Loss [0.0003805891319643706, 0.00082160113, 0.03924211]\n",
      "Epoch number: 114 ; Loss [0.00045769361895509064, 0.0013184622, 0.039607976]\n",
      "Epoch number: 115 ; Loss [0.0006292856851359829, 0.0031171045, 0.04074677]\n",
      "Epoch number: 116 ; Loss [0.0004904996749246493, 0.0013751052, 0.040467937]\n",
      "Epoch number: 117 ; Loss [0.0006299873493844643, 0.0024645636, 0.04060664]\n",
      "Epoch number: 118 ; Loss [0.00028689617465715855, 0.00069368305, 0.040446796]\n",
      "Epoch number: 119 ; Loss [0.0005497170350281522, 0.0042590527, 0.039492235]\n",
      "Epoch number: 120 ; Loss [0.0005056030495325103, 0.0013784232, 0.039807074]\n",
      "Epoch number: 121 ; Loss [0.0006413153314497322, 0.0027096372, 0.039964207]\n",
      "Epoch number: 122 ; Loss [0.00040048101800493896, 0.0009260489, 0.03819185]\n",
      "Epoch number: 123 ; Loss [0.0004518925561569631, 0.0011277187, 0.038243752]\n",
      "Epoch number: 124 ; Loss [0.00046623506932519376, 0.0013528827, 0.03931909]\n",
      "Epoch number: 125 ; Loss [0.0006604182708542794, 0.0013975094, 0.039574336]\n",
      "Epoch number: 126 ; Loss [0.00027825686265714467, 0.00036533692, 0.040224534]\n",
      "Epoch number: 127 ; Loss [0.0019994114118162543, 0.0031514217, 0.039838478]\n",
      "Epoch number: 128 ; Loss [0.00035480297810863703, 0.00045281384, 0.03927105]\n",
      "Epoch number: 129 ; Loss [0.0004844936484005302, 0.0026382452, 0.03838731]\n",
      "Epoch number: 130 ; Loss [0.00042262355418642983, 0.000220832, 0.037972704]\n",
      "Epoch number: 131 ; Loss [0.00042330670839874074, 0.00051145814, 0.03734752]\n",
      "Epoch number: 132 ; Loss [0.0004923492961097509, 0.0002396755, 0.037059464]\n",
      "Epoch number: 133 ; Loss [0.0003612638101913035, 0.0013624354, 0.038264867]\n",
      "Epoch number: 134 ; Loss [0.0003063334443140775, 0.0003788203, 0.038189713]\n",
      "Epoch number: 135 ; Loss [0.0004940184444421902, 0.0018475374, 0.03821982]\n",
      "Epoch number: 136 ; Loss [0.00032482312235515565, 0.00060466165, 0.038281575]\n",
      "Epoch number: 137 ; Loss [0.0006697406643070281, 0.0022585236, 0.038700197]\n",
      "Epoch number: 138 ; Loss [0.00030834095377940685, 0.00020689625, 0.03758761]\n",
      "Epoch number: 139 ; Loss [0.00027752588357543573, 0.001238654, 0.038245652]\n",
      "Epoch number: 140 ; Loss [0.00027047940238844603, 0.00039506372, 0.037489634]\n",
      "Epoch number: 141 ; Loss [0.0003668121062219143, 0.0014351323, 0.039628617]\n",
      "Epoch number: 142 ; Loss [0.0002576366678113118, 0.0008160283, 0.037878543]\n",
      "Epoch number: 143 ; Loss [0.0003672791353892535, 0.0010978786, 0.037645362]\n",
      "Epoch number: 144 ; Loss [0.0003987822710769251, 0.0007094571, 0.03699248]\n",
      "Epoch number: 145 ; Loss [0.00032521285174880177, 0.0009858683, 0.036097944]\n",
      "Epoch number: 146 ; Loss [0.00029571427876362577, 0.0005134676, 0.036383566]\n",
      "Epoch number: 147 ; Loss [0.0003886060294462368, 0.0011877088, 0.0362477]\n",
      "Epoch number: 148 ; Loss [0.0003331901680212468, 0.0010932109, 0.03774079]\n",
      "Epoch number: 149 ; Loss [0.00024252272123703733, 0.00092320656, 0.03583513]\n",
      "Epoch number: 150 ; Loss [0.00042001310794148594, 0.00035648007, 0.036736976]\n",
      "Epoch number: 151 ; Loss [0.00025084154185606167, 0.0004569444, 0.03679286]\n",
      "Epoch number: 152 ; Loss [0.0006090083334129304, 0.00096836063, 0.03626344]\n",
      "Epoch number: 153 ; Loss [0.000394565227907151, 0.00080043357, 0.035596345]\n",
      "Epoch number: 154 ; Loss [0.00032117431692313403, 0.0018362486, 0.036658775]\n",
      "Epoch number: 155 ; Loss [0.0002571461445768364, 0.0007267293, 0.03562105]\n",
      "Epoch number: 156 ; Loss [0.0003050273153348826, 0.0004911401, 0.037623134]\n",
      "Epoch number: 157 ; Loss [0.00023489425075240433, 0.0007366431, 0.03673076]\n",
      "Epoch number: 158 ; Loss [0.0002871266333386302, 0.0018193338, 0.03753779]\n",
      "Epoch number: 159 ; Loss [0.00020366366516100243, 0.00044787832, 0.03563688]\n",
      "Epoch number: 160 ; Loss [0.00020925152784911916, 0.000375785, 0.035087362]\n",
      "Epoch number: 161 ; Loss [0.0008253239502664655, 0.006047424, 0.035911776]\n",
      "Epoch number: 162 ; Loss [0.0005320729251252487, 0.00060973875, 0.035598367]\n",
      "Epoch number: 163 ; Loss [0.00020298597519285977, 0.0008629472, 0.034887213]\n",
      "Epoch number: 164 ; Loss [0.0004596820363076404, 0.00093941647, 0.035775214]\n",
      "Epoch number: 165 ; Loss [0.0002897417143685743, 0.0008066296, 0.03355781]\n",
      "Epoch number: 166 ; Loss [0.00019811923266388476, 0.0005060729, 0.034610905]\n",
      "Epoch number: 167 ; Loss [0.0001301989977946505, 0.0007839845, 0.034425907]\n",
      "Epoch number: 168 ; Loss [0.0004347794456407428, 0.00039317948, 0.035169546]\n",
      "Epoch number: 169 ; Loss [0.00018232299771625549, 0.0017106764, 0.03504637]\n",
      "Epoch number: 170 ; Loss [0.00021246216056169942, 0.00032061583, 0.035636924]\n",
      "Epoch number: 171 ; Loss [0.00013879757170798257, 0.0005534688, 0.034153096]\n",
      "Epoch number: 172 ; Loss [0.0004196828813292086, 0.00063397497, 0.03488965]\n",
      "Epoch number: 173 ; Loss [0.0003618989503593184, 0.0013818956, 0.034300994]\n",
      "Epoch number: 174 ; Loss [0.0001831076806411147, 0.00035062825, 0.033828683]\n",
      "Epoch number: 175 ; Loss [0.0003798653051489964, 0.0018110501, 0.034449935]\n",
      "Epoch number: 176 ; Loss [0.00018045683100353926, 0.0003829497, 0.035465926]\n",
      "Epoch number: 177 ; Loss [0.00022619066294282675, 0.00071287405, 0.032990262]\n",
      "Epoch number: 178 ; Loss [0.0002906273730332032, 0.0015110051, 0.03341354]\n",
      "Epoch number: 179 ; Loss [0.0002891933618229814, 0.00078285375, 0.033465944]\n",
      "Epoch number: 180 ; Loss [0.00014992641445132904, 0.0007687483, 0.03417433]\n",
      "Epoch number: 181 ; Loss [0.00016381423847633414, 0.00029715002, 0.03402894]\n",
      "Epoch number: 182 ; Loss [0.00022262785932980478, 0.0009662853, 0.03379617]\n",
      "Epoch number: 183 ; Loss [0.0002617819918668829, 0.00036765574, 0.03375908]\n",
      "Epoch number: 184 ; Loss [0.00021779610688099638, 0.00037049135, 0.03271795]\n",
      "Epoch number: 185 ; Loss [0.00022241259284783155, 0.0006156474, 0.033274405]\n",
      "Epoch number: 186 ; Loss [0.0003488272486720234, 0.0008107548, 0.034213524]\n",
      "Epoch number: 187 ; Loss [0.0003457281782175414, 0.0005752775, 0.033446983]\n",
      "Epoch number: 188 ; Loss [0.00014663796173408628, 0.00028645998, 0.032413296]\n",
      "Epoch number: 189 ; Loss [0.000377710624889005, 0.00093706045, 0.03346858]\n",
      "Epoch number: 190 ; Loss [0.00021683565501007251, 0.00026160543, 0.03358457]\n",
      "Epoch number: 191 ; Loss [0.00015277341663022526, 0.00040525812, 0.033186823]\n",
      "Epoch number: 192 ; Loss [0.00021026688773417845, 0.00042450856, 0.03318563]\n",
      "Epoch number: 193 ; Loss [0.00026320140750613064, 0.00041464382, 0.03350237]\n",
      "Epoch number: 194 ; Loss [0.00020806740212719887, 0.0005111521, 0.03367176]\n",
      "Epoch number: 195 ; Loss [0.00023734295973554254, 0.0012719773, 0.033259965]\n",
      "Epoch number: 196 ; Loss [0.0002038932652794756, 0.0005975391, 0.032557502]\n",
      "Epoch number: 197 ; Loss [0.0001556046263431199, 0.00019692097, 0.03222271]\n",
      "Epoch number: 198 ; Loss [0.00021462621225509793, 0.00037569707, 0.03292149]\n",
      "Epoch number: 199 ; Loss [0.00015034026000648737, 0.0004014442, 0.03271445]\n"
     ]
    }
   ],
   "source": [
    "from APEGAN import APEGAN\n",
    "\n",
    "GAN, G, D = APEGAN([28,28,1])\n",
    "\n",
    "epochs=200\n",
    "batch_size=256\n",
    "\n",
    "N = x_clean.shape[0]\n",
    "scalarloss = [0,0,0]\n",
    "for cur_epoch in range(epochs):\n",
    "    idx = np.random.randint(0, N, size=batch_size)\n",
    "    x_clean_batch = x_clean[idx,]\n",
    "    x_adv_batch = x_adv[idx,]\n",
    "    scalarloss[0] = D.train_on_batch(x_clean_batch, np.ones(batch_size))/2\n",
    "    scalarloss[0] += D.train_on_batch(x_adv_batch, np.zeros(batch_size))/2\n",
    "    GAN.train_on_batch(x_adv_batch, [np.ones(batch_size), x_clean_batch])\n",
    "    scalarloss[1:] = GAN.train_on_batch(x_adv_batch, [np.ones(batch_size), x_clean_batch])[1:]\n",
    "    print(\"Epoch number:\",cur_epoch,\"; Loss\",scalarloss)"
   ]
  },
  {
   "cell_type": "code",
   "execution_count": 8,
   "metadata": {},
   "outputs": [
    {
     "name": "stdout",
     "output_type": "stream",
     "text": [
      "adv acc:0.0000, rct acc:0.9789\n",
      "0\n"
     ]
    },
    {
     "data": {
      "image/png": "[encoded data removed]",
      "text/plain": [
       "<Figure size 432x288 with 1 Axes>"
      ]
     },
     "metadata": {},
     "output_type": "display_data"
    },
    {
     "name": "stdout",
     "output_type": "stream",
     "text": [
      "2\n"
     ]
    },
    {
     "data": {
      "image/png": "[encoded data removed]",
      "text/plain": [
       "<Figure size 432x288 with 1 Axes>"
      ]
     },
     "metadata": {},
     "output_type": "display_data"
    },
    {
     "name": "stdout",
     "output_type": "stream",
     "text": [
      "0\n"
     ]
    },
    {
     "data": {
      "image/png": "[encoded data removed]",
      "text/plain": [
       "<Figure size 432x288 with 1 Axes>"
      ]
     },
     "metadata": {},
     "output_type": "display_data"
    },
    {
     "name": "stdout",
     "output_type": "stream",
     "text": [
      "5\n"
     ]
    },
    {
     "data": {
      "image/png": "[encoded data removed]",
      "text/plain": [
       "<Figure size 432x288 with 1 Axes>"
      ]
     },
     "metadata": {},
     "output_type": "display_data"
    },
    {
     "name": "stdout",
     "output_type": "stream",
     "text": [
      "0\n"
     ]
    },
    {
     "data": {
      "image/png": "[encoded data removed]",
      "text/plain": [
       "<Figure size 432x288 with 1 Axes>"
      ]
     },
     "metadata": {},
     "output_type": "display_data"
    },
    {
     "name": "stdout",
     "output_type": "stream",
     "text": [
      "6\n"
     ]
    },
    {
     "data": {
      "image/png": "[encoded data removed]",
      "text/plain": [
       "<Figure size 432x288 with 1 Axes>"
      ]
     },
     "metadata": {},
     "output_type": "display_data"
    },
    {
     "name": "stdout",
     "output_type": "stream",
     "text": [
      "0\n"
     ]
    },
    {
     "data": {
      "image/png": "[encoded data removed]",
      "text/plain": [
       "<Figure size 432x288 with 1 Axes>"
      ]
     },
     "metadata": {},
     "output_type": "display_data"
    },
    {
     "name": "stdout",
     "output_type": "stream",
     "text": [
      "0\n"
     ]
    },
    {
     "data": {
      "image/png": "[encoded data removed]",
      "text/plain": [
       "<Figure size 432x288 with 1 Axes>"
      ]
     },
     "metadata": {},
     "output_type": "display_data"
    },
    {
     "name": "stdout",
     "output_type": "stream",
     "text": [
      "0\n"
     ]
    },
    {
     "data": {
      "image/png": "[encoded data removed]",
      "text/plain": [
       "<Figure size 432x288 with 1 Axes>"
      ]
     },
     "metadata": {},
     "output_type": "display_data"
    },
    {
     "name": "stdout",
     "output_type": "stream",
     "text": [
      "5\n"
     ]
    },
    {
     "data": {
      "image/png": "[encoded data removed]",
      "text/plain": [
       "<Figure size 432x288 with 1 Axes>"
      ]
     },
     "metadata": {},
     "output_type": "display_data"
    }
   ],
   "source": [
    "import matplotlib.pyplot as plt\n",
    "import pickle\n",
    "\n",
    "F = keras.models.load_model('../AdvGAN/models/Classifier-' + 'B' + '.h5')\n",
    "\n",
    "test_range = x_adv.shape[0]//10\n",
    "adv = x_adv[:test_range]\n",
    "label = x_label[:test_range]\n",
    "purified = G.predict(adv)\n",
    "adv_pdt = np.argmax(F.predict(adv), axis=1)\n",
    "purified_pdt = np.argmax(F.predict(purified), axis=1)\n",
    "\n",
    "print('adv acc:{:.4f}, rct acc:{:.4f}'.format(np.sum(adv_pdt==label)/test_range, \n",
    "                                              np.sum(purified_pdt==label)/test_range))\n",
    "\n",
    "for k in range(5):\n",
    "    print(adv_pdt[k])\n",
    "    plt.imshow((adv[k,] * 255).astype(np.int).reshape(28,28), cmap='gray')\n",
    "    plt.show()\n",
    "    print(purified_pdt[k])\n",
    "    plt.imshow((purified[k,] * 255).astype(np.int).reshape(28,28), cmap='gray')\n",
    "    plt.show()"
   ]
  },
  {
   "cell_type": "code",
   "execution_count": null,
   "metadata": {},
   "outputs": [],
   "source": []
  }
 ],
 "metadata": {
  "kernelspec": {
   "display_name": "Python 3",
   "language": "python",
   "name": "python3"
  },
  "language_info": {
   "codemirror_mode": {
    "name": "ipython",
    "version": 3
   },
   "file_extension": ".py",
   "mimetype": "text/x-python",
   "name": "python",
   "nbconvert_exporter": "python",
   "pygments_lexer": "ipython3",
   "version": "3.5.2"
  }
 },
 "nbformat": 4,
 "nbformat_minor": 2
}
