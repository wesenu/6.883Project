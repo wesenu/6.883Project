{
 "cells": [
  {
   "cell_type": "code",
   "execution_count": 1,
   "metadata": {},
   "outputs": [
    {
     "data": {
      "application/javascript": [
       "IPython.OutputArea.prototype._should_scroll = function(lines) {\n",
       "    return false;\n",
       "}"
      ],
      "text/plain": [
       "<IPython.core.display.Javascript object>"
      ]
     },
     "metadata": {},
     "output_type": "display_data"
    }
   ],
   "source": [
    "%%javascript\n",
    "IPython.OutputArea.prototype._should_scroll = function(lines) {\n",
    "    return false;\n",
    "}"
   ]
  },
  {
   "cell_type": "code",
   "execution_count": 2,
   "metadata": {},
   "outputs": [
    {
     "name": "stderr",
     "output_type": "stream",
     "text": [
      "/usr/local/lib/python3.5/dist-packages/h5py/__init__.py:36: FutureWarning: Conversion of the second argument of issubdtype from `float` to `np.floating` is deprecated. In future, it will be treated as `np.float64 == np.dtype(float).type`.\n",
      "  from ._conv import register_converters as _register_converters\n",
      "Using TensorFlow backend.\n"
     ]
    }
   ],
   "source": [
    "# MNIST Data Pre-processing\n",
    "import numpy as np\n",
    "import keras\n",
    "import tensorflow as tf\n",
    "from keras.datasets import mnist\n",
    "from keras.utils import np_utils  # utilities for one-hot encoding of ground truth values\n",
    "\n",
    "import os\n",
    "os.environ[\"CUDA_VISIBLE_DEVICES\"]=\"0\"\n",
    "\n",
    "%load_ext autoreload\n",
    "%autoreload 2"
   ]
  },
  {
   "cell_type": "code",
   "execution_count": 3,
   "metadata": {},
   "outputs": [],
   "source": [
    "(x_train, y_train), (x_test, y_test) = mnist.load_data()\n",
    "x_train = x_train.reshape(x_train.shape[0], 28, 28, 1)\n",
    "x_test = x_test.reshape(x_test.shape[0], 28, 28, 1)\n",
    "\n",
    "x_train = x_train.astype('float32')\n",
    "x_test = x_test.astype('float32')\n",
    "x_train /= 255\n",
    "x_test /= 255\n",
    "y_train = np_utils.to_categorical(y_train, 10).astype(np.float32)\n",
    "y_test = np_utils.to_categorical(y_test, 10).astype(np.float32)"
   ]
  },
  {
   "cell_type": "code",
   "execution_count": 9,
   "metadata": {},
   "outputs": [
    {
     "name": "stderr",
     "output_type": "stream",
     "text": [
      "/usr/local/lib/python3.5/dist-packages/keras/engine/training.py:975: UserWarning: Discrepancy between trainable weights and collected trainable weights, did you set `model.trainable` without calling `model.compile` after ?\n",
      "  'Discrepancy between trainable weights and collected trainable'\n"
     ]
    },
    {
     "name": "stdout",
     "output_type": "stream",
     "text": [
      "Epoch number: 0 ; Loss [0.2728178, 0.20230056, 0.24913298, 0.56808805, 0.25657758, 0.7568201, 0.5365353]\n",
      "Epoch number: 1 ; Loss [0.27127692, 0.1398645, 0.25248992, 0.4400735, 0.25032416, 0.6823498, 0.46270207]\n",
      "Epoch number: 2 ; Loss [0.26200464, 0.11313255, 0.24975955, 0.37351903, 0.2551176, 0.5842234, 0.43757436]\n",
      "Epoch number: 3 ; Loss [0.26859322, 0.098729506, 0.2500057, 0.32905564, 0.24950466, 0.42430884, 0.4080615]\n",
      "Epoch number: 4 ; Loss [0.26871756, 0.09074296, 0.2368374, 0.3179569, 0.26328513, 0.2294703, 0.4456167]\n",
      "Epoch number: 5 ; Loss [0.2624717, 0.0863866, 0.23479292, 0.29242378, 0.26964995, 0.15752241, 0.44682235]\n",
      "Epoch number: 6 ; Loss [0.25675377, 0.07963114, 0.23226678, 0.26911598, 0.273473, 0.113856286, 0.41811746]\n",
      "Epoch number: 7 ; Loss [0.25787386, 0.07557014, 0.22706409, 0.24064676, 0.2786762, 0.08897548, 0.37701324]\n",
      "Epoch number: 8 ; Loss [0.25987616, 0.07536839, 0.22337048, 0.22289099, 0.28094447, 0.068401754, 0.3445964]\n",
      "Epoch number: 9 ; Loss [0.25130767, 0.076184474, 0.21815106, 0.20404054, 0.285879, 0.11005669, 0.32159343]\n",
      "Epoch number: 10 ; Loss [0.25345576, 0.07556014, 0.21477786, 0.19588666, 0.29788786, 0.03886095, 0.31708434]\n",
      "Epoch number: 11 ; Loss [0.25028068, 0.07210229, 0.20569214, 0.18230209, 0.3043888, 0.040876534, 0.30184188]\n",
      "Epoch number: 12 ; Loss [0.24555245, 0.070334226, 0.20611143, 0.16362697, 0.30771822, 0.06677893, 0.2784638]\n",
      "Epoch number: 13 ; Loss [0.24375103, 0.06712412, 0.20333706, 0.15481892, 0.3118908, 0.07550306, 0.25915554]\n",
      "Epoch number: 14 ; Loss [0.23817226, 0.068361014, 0.1976567, 0.14263654, 0.31487358, 0.055643484, 0.25062132]\n",
      "Epoch number: 15 ; Loss [0.23388006, 0.0648892, 0.18710068, 0.14110611, 0.33275267, 0.029240415, 0.25392655]\n",
      "Epoch number: 16 ; Loss [0.2314038, 0.060708616, 0.17856312, 0.137163, 0.3435371, 0.029016262, 0.25260577]\n",
      "Epoch number: 17 ; Loss [0.22613789, 0.06043026, 0.17522569, 0.13061221, 0.33925322, 0.024279907, 0.24266565]\n",
      "Epoch number: 18 ; Loss [0.21490411, 0.055277858, 0.1785102, 0.12381324, 0.34814727, 0.053502686, 0.22519091]\n",
      "Epoch number: 19 ; Loss [0.21289405, 0.05335091, 0.17918925, 0.1126395, 0.34043065, 0.08947785, 0.20842767]\n",
      "Epoch number: 20 ; Loss [0.21279053, 0.05407226, 0.17430308, 0.11416734, 0.3547758, 0.05945633, 0.2048522]\n",
      "Epoch number: 21 ; Loss [0.20842643, 0.050892327, 0.15341303, 0.11509532, 0.37020507, 0.034121726, 0.2085184]\n",
      "Epoch number: 22 ; Loss [0.20209488, 0.048574142, 0.14644349, 0.11444747, 0.3883245, 0.03841533, 0.21166323]\n",
      "Epoch number: 23 ; Loss [0.19586793, 0.048067383, 0.14694574, 0.11224998, 0.40216598, 0.022007536, 0.20822714]\n",
      "Epoch number: 24 ; Loss [0.18865724, 0.04535242, 0.13880506, 0.109793484, 0.40535653, 0.020855954, 0.19795236]\n",
      "Epoch number: 25 ; Loss [0.17716894, 0.043768853, 0.14565943, 0.10245423, 0.40758905, 0.048615538, 0.18191507]\n",
      "Epoch number: 26 ; Loss [0.17006853, 0.044421263, 0.14445983, 0.098777965, 0.40365523, 0.07686581, 0.17601144]\n",
      "Epoch number: 27 ; Loss [0.18012756, 0.041240707, 0.12312392, 0.09677234, 0.4301268, 0.04698755, 0.17990433]\n",
      "Epoch number: 28 ; Loss [0.16069554, 0.041927103, 0.114246055, 0.097929746, 0.4514842, 0.01872475, 0.18228187]\n",
      "Epoch number: 29 ; Loss [0.16695598, 0.03891356, 0.12132871, 0.096460275, 0.464088, 0.010838811, 0.17871024]\n",
      "Epoch number: 30 ; Loss [0.15276521, 0.03673988, 0.11115968, 0.09213035, 0.4570657, 0.034927398, 0.16932465]\n",
      "Epoch number: 31 ; Loss [0.14579222, 0.03942035, 0.12674342, 0.08790475, 0.43358612, 0.07398938, 0.15820265]\n",
      "Epoch number: 32 ; Loss [0.14009461, 0.036912244, 0.13277096, 0.083569296, 0.44472015, 0.06642017, 0.15335654]\n",
      "Epoch number: 33 ; Loss [0.12954187, 0.036189392, 0.11848087, 0.08762648, 0.47560835, 0.034674566, 0.15587832]\n",
      "Epoch number: 34 ; Loss [0.12604348, 0.034512952, 0.10907754, 0.089184545, 0.49192122, 0.04057362, 0.15803112]\n",
      "Epoch number: 35 ; Loss [0.12784739, 0.03485333, 0.09075596, 0.08978156, 0.50575876, 0.031932596, 0.15910767]\n",
      "Epoch number: 36 ; Loss [0.10957717, 0.032496095, 0.09154994, 0.08472958, 0.50990313, 0.027995303, 0.15775472]\n",
      "Epoch number: 37 ; Loss [0.119575605, 0.032059032, 0.09650873, 0.082949184, 0.51917946, 0.032596033, 0.15146755]\n",
      "Epoch number: 38 ; Loss [0.09486993, 0.031445175, 0.10152412, 0.07868919, 0.5079886, 0.061786477, 0.14349656]\n",
      "Epoch number: 39 ; Loss [0.10236383, 0.031290185, 0.10132449, 0.07599775, 0.51007533, 0.059634116, 0.13956083]\n",
      "Epoch number: 40 ; Loss [0.11445936, 0.03087226, 0.08691484, 0.07832718, 0.54343957, 0.048226796, 0.14091866]\n",
      "Epoch number: 41 ; Loss [0.103675306, 0.028202772, 0.07298905, 0.07618696, 0.5585818, 0.044601526, 0.14165121]\n",
      "Epoch number: 42 ; Loss [0.091251224, 0.029406942, 0.07692277, 0.07660289, 0.5685743, 0.040336624, 0.141627]\n",
      "Epoch number: 43 ; Loss [0.09026482, 0.029740635, 0.0760668, 0.07653424, 0.5707663, 0.041440066, 0.13965951]\n",
      "Epoch number: 44 ; Loss [0.09298218, 0.0275508, 0.07745592, 0.07544578, 0.575001, 0.05177626, 0.13644098]\n",
      "Epoch number: 45 ; Loss [0.10835827, 0.029325904, 0.09589154, 0.074522264, 0.54256976, 0.06895137, 0.1276794]\n",
      "Epoch number: 46 ; Loss [0.09772599, 0.027832942, 0.092812784, 0.07154932, 0.5167331, 0.09485672, 0.12480672]\n",
      "Epoch number: 47 ; Loss [0.09344597, 0.030150848, 0.06514484, 0.07447334, 0.605302, 0.030772064, 0.13334455]\n",
      "Epoch number: 48 ; Loss [0.09087517, 0.028284945, 0.045134865, 0.0800639, 0.65275747, 0.007722138, 0.14227264]\n",
      "Epoch number: 49 ; Loss [0.07236696, 0.02698246, 0.06093069, 0.078483395, 0.6433177, 0.013232995, 0.1404549]\n",
      "Epoch number: 50 ; Loss [0.075970806, 0.026907234, 0.06283374, 0.072795704, 0.6312809, 0.025034297, 0.12880611]\n",
      "Epoch number: 51 ; Loss [0.08516464, 0.02623996, 0.116479695, 0.06790736, 0.53873616, 0.10950231, 0.112633]\n",
      "Epoch number: 52 ; Loss [0.08209229, 0.03068709, 0.09203176, 0.065954834, 0.5860679, 0.07166782, 0.111352734]\n",
      "Epoch number: 53 ; Loss [0.11130971, 0.025047533, 0.07445325, 0.067932695, 0.613923, 0.05990528, 0.113984995]\n",
      "Epoch number: 54 ; Loss [0.08043898, 0.025657574, 0.053712748, 0.07041937, 0.6419731, 0.028843284, 0.119814105]\n",
      "Epoch number: 55 ; Loss [0.0999285, 0.026725248, 0.045414492, 0.06998688, 0.6816908, 0.014203903, 0.12006205]\n",
      "Epoch number: 56 ; Loss [0.084473416, 0.025602188, 0.067941725, 0.06754111, 0.6238498, 0.052843943, 0.115646854]\n",
      "Epoch number: 57 ; Loss [0.07797412, 0.025101995, 0.072450936, 0.06689135, 0.6155497, 0.065178394, 0.11444788]\n",
      "Epoch number: 58 ; Loss [0.08443598, 0.025370669, 0.062180117, 0.066340454, 0.64254254, 0.04337436, 0.11595755]\n",
      "Epoch number: 59 ; Loss [0.09848988, 0.025217623, 0.054262236, 0.067893505, 0.6793201, 0.03851747, 0.11289395]\n",
      "Epoch number: 60 ; Loss [0.08185497, 0.023384761, 0.06653895, 0.06603521, 0.6355512, 0.05258876, 0.11012536]\n",
      "Epoch number: 61 ; Loss [0.10076856, 0.024065476, 0.04830139, 0.06784342, 0.6980438, 0.032127373, 0.11439377]\n",
      "Epoch number: 62 ; Loss [0.09468877, 0.022843376, 0.05635186, 0.06711151, 0.6877282, 0.050862677, 0.113736935]\n",
      "Epoch number: 63 ; Loss [0.07254493, 0.023809172, 0.07491553, 0.06369235, 0.64832765, 0.049444072, 0.10847522]\n",
      "Epoch number: 64 ; Loss [0.06911829, 0.022245523, 0.07912357, 0.06397793, 0.62057525, 0.08197743, 0.10366582]\n",
      "Epoch number: 65 ; Loss [0.09570588, 0.023916285, 0.055166177, 0.06354656, 0.65576917, 0.043473013, 0.10270888]\n",
      "Epoch number: 66 ; Loss [0.075914994, 0.021966115, 0.05894975, 0.06262069, 0.67332935, 0.04567527, 0.10372294]\n",
      "Epoch number: 67 ; Loss [0.06889596, 0.023202814, 0.049457315, 0.06268469, 0.68635094, 0.03908484, 0.10275279]\n",
      "Epoch number: 68 ; Loss [0.086356185, 0.022713404, 0.05992254, 0.0633638, 0.68357533, 0.03392902, 0.101178214]\n",
      "Epoch number: 69 ; Loss [0.11191621, 0.02313382, 0.042650573, 0.06117834, 0.7013608, 0.038107045, 0.104033515]\n",
      "Epoch number: 70 ; Loss [0.07505822, 0.022039317, 0.05741705, 0.06372958, 0.70978487, 0.042712156, 0.10320224]\n",
      "Epoch number: 71 ; Loss [0.10475974, 0.02380503, 0.058500163, 0.06138951, 0.69407594, 0.06438069, 0.09966229]\n",
      "Epoch number: 72 ; Loss [0.09007418, 0.020710068, 0.047911067, 0.06068998, 0.7101, 0.03125934, 0.09871103]\n",
      "Epoch number: 73 ; Loss [0.08314869, 0.020694192, 0.04483678, 0.05954147, 0.7401657, 0.029752394, 0.099746294]\n",
      "Epoch number: 74 ; Loss [0.09123871, 0.020295847, 0.034698248, 0.060295045, 0.7502893, 0.016893702, 0.1016599]\n"
     ]
    },
    {
     "name": "stdout",
     "output_type": "stream",
     "text": [
      "Epoch number: 75 ; Loss [0.08515484, 0.02358432, 0.03790665, 0.057972718, 0.70615816, 0.033845782, 0.09604421]\n",
      "Epoch number: 76 ; Loss [0.08886572, 0.022423625, 0.08919883, 0.059091136, 0.6505867, 0.060063645, 0.08960591]\n",
      "Epoch number: 77 ; Loss [0.069129795, 0.024607915, 0.04363103, 0.05976359, 0.71610796, 0.040693853, 0.09416907]\n",
      "Epoch number: 78 ; Loss [0.078945845, 0.02080403, 0.031298127, 0.061532985, 0.74553883, 0.02669901, 0.10144252]\n",
      "Epoch number: 79 ; Loss [0.07137211, 0.020262703, 0.028217753, 0.06178335, 0.7603904, 0.02352193, 0.10256118]\n",
      "Epoch number: 80 ; Loss [0.08162567, 0.021944381, 0.033813626, 0.058859847, 0.7566376, 0.018395053, 0.09805559]\n",
      "Epoch number: 81 ; Loss [0.090417564, 0.023658536, 0.1168937, 0.057478175, 0.5950393, 0.09984909, 0.08599937]\n",
      "Epoch number: 82 ; Loss [0.05481122, 0.021735156, 0.10339104, 0.05605903, 0.6460463, 0.07096123, 0.08387029]\n",
      "Epoch number: 83 ; Loss [0.09023838, 0.02215579, 0.042505197, 0.05878836, 0.7450131, 0.026198773, 0.08983983]\n",
      "Epoch number: 84 ; Loss [0.0910338, 0.02125773, 0.023412034, 0.058542132, 0.7737226, 0.016779289, 0.091907665]\n",
      "Epoch number: 85 ; Loss [0.082410075, 0.021309644, 0.037488267, 0.05651923, 0.7589142, 0.036530387, 0.08970484]\n",
      "Epoch number: 86 ; Loss [0.073744096, 0.020034743, 0.027716778, 0.05616346, 0.75772023, 0.026077973, 0.091689095]\n",
      "Epoch number: 87 ; Loss [0.08496935, 0.019383373, 0.0390402, 0.05528213, 0.721068, 0.033775147, 0.087310374]\n",
      "Epoch number: 88 ; Loss [0.06688423, 0.02067596, 0.12495393, 0.0511331, 0.5574134, 0.16074355, 0.07812861]\n",
      "Epoch number: 89 ; Loss [0.08854488, 0.023044787, 0.014469935, 0.06807641, 0.8205138, 0.0044649467, 0.101290174]\n",
      "Epoch number: 90 ; Loss [0.072300345, 0.024505306, 0.009037975, 0.069773205, 0.82819086, 0.0018971656, 0.11866217]\n",
      "Epoch number: 91 ; Loss [0.06491558, 0.0211181, 0.00948058, 0.072324365, 0.82310104, 0.0042116754, 0.12463404]\n",
      "Epoch number: 92 ; Loss [0.07032567, 0.020114407, 0.012057705, 0.06699622, 0.815646, 0.0054824813, 0.117708914]\n",
      "Epoch number: 93 ; Loss [0.08136823, 0.019651758, 0.016468247, 0.06151127, 0.80523163, 0.0037356738, 0.10458009]\n",
      "Epoch number: 94 ; Loss [0.08346324, 0.020886712, 0.04669275, 0.055626187, 0.72797424, 0.026987772, 0.08769512]\n",
      "Epoch number: 95 ; Loss [0.078191586, 0.020577712, 0.07067807, 0.05092507, 0.6933876, 0.07777553, 0.077208064]\n",
      "Epoch number: 96 ; Loss [0.057338335, 0.01966881, 0.07053627, 0.050700754, 0.66671014, 0.09928453, 0.07733419]\n",
      "Epoch number: 97 ; Loss [0.064331874, 0.019709285, 0.03724163, 0.050965745, 0.74184966, 0.029028278, 0.08197787]\n",
      "Epoch number: 98 ; Loss [0.06350605, 0.017949298, 0.0336588, 0.05292334, 0.77386504, 0.016486522, 0.087447576]\n",
      "Epoch number: 99 ; Loss [0.090476915, 0.018953921, 0.01693454, 0.052678604, 0.7843827, 0.009433716, 0.09527701]\n",
      "Epoch number: 100 ; Loss [0.08266083, 0.01985349, 0.033132043, 0.052662116, 0.75304425, 0.018441297, 0.093228534]\n",
      "Epoch number: 101 ; Loss [0.06265123, 0.022347104, 0.12760887, 0.05247827, 0.6386954, 0.08693858, 0.089024395]\n",
      "Epoch number: 102 ; Loss [0.08392978, 0.025266299, 0.11709891, 0.056638967, 0.59758586, 0.12964521, 0.089866646]\n",
      "Epoch number: 103 ; Loss [0.086392365, 0.024390116, 0.016419286, 0.06454235, 0.8149177, 0.006552765, 0.10089736]\n",
      "Epoch number: 104 ; Loss [0.097221024, 0.020925652, 0.010539453, 0.059424765, 0.83077097, 0.005561849, 0.105938666]\n",
      "Epoch number: 105 ; Loss [0.087978095, 0.022073502, 0.009893119, 0.059906114, 0.82068366, 0.006951436, 0.106583185]\n",
      "Epoch number: 106 ; Loss [0.060973637, 0.019926233, 0.01734772, 0.060285766, 0.8177431, 0.005321922, 0.10155009]\n",
      "Epoch number: 107 ; Loss [0.08267571, 0.019527242, 0.022614302, 0.053585652, 0.7881432, 0.010554253, 0.09156051]\n",
      "Epoch number: 108 ; Loss [0.06956616, 0.01877304, 0.05318286, 0.049281355, 0.71534646, 0.06737886, 0.081742354]\n",
      "Epoch number: 109 ; Loss [0.067123234, 0.019375633, 0.08271114, 0.047621332, 0.6299495, 0.11206995, 0.073803686]\n",
      "Epoch number: 110 ; Loss [0.061063442, 0.020116169, 0.115170956, 0.046578605, 0.63310397, 0.1056822, 0.07118976]\n",
      "Epoch number: 111 ; Loss [0.068174034, 0.018869612, 0.040601775, 0.049489327, 0.7362851, 0.056571137, 0.07616555]\n",
      "Epoch number: 112 ; Loss [0.068677284, 0.017748265, 0.019496482, 0.051262617, 0.791512, 0.012177624, 0.0831401]\n",
      "Epoch number: 113 ; Loss [0.08664043, 0.018051352, 0.018652685, 0.052513078, 0.80729145, 0.013512615, 0.0886796]\n",
      "Epoch number: 114 ; Loss [0.07740317, 0.018183641, 0.0226345, 0.053809695, 0.8105153, 0.005125095, 0.09154593]\n",
      "Epoch number: 115 ; Loss [0.07923933, 0.017409516, 0.017715927, 0.050914, 0.7890637, 0.011676468, 0.08941306]\n",
      "Epoch number: 116 ; Loss [0.071488224, 0.017662928, 0.02902458, 0.049894996, 0.784121, 0.008178083, 0.08729598]\n",
      "Epoch number: 117 ; Loss [0.07771172, 0.018897085, 0.06315266, 0.0471472, 0.7221862, 0.047870662, 0.07896414]\n",
      "Epoch number: 118 ; Loss [0.045760233, 0.01848399, 0.07722014, 0.045440182, 0.69734174, 0.05877938, 0.0758303]\n",
      "Epoch number: 119 ; Loss [0.06258784, 0.017529208, 0.041781414, 0.04679735, 0.7368656, 0.03826449, 0.07872539]\n",
      "Epoch number: 120 ; Loss [0.09043327, 0.017983364, 0.04578296, 0.045832675, 0.7770897, 0.015845727, 0.079054885]\n",
      "Epoch number: 121 ; Loss [0.09647829, 0.019578595, 0.05644883, 0.04607898, 0.71742535, 0.04975312, 0.076307334]\n",
      "Epoch number: 122 ; Loss [0.06175465, 0.018097896, 0.035929866, 0.04781945, 0.7402331, 0.04651301, 0.07864077]\n",
      "Epoch number: 123 ; Loss [0.09053056, 0.017704606, 0.0214569, 0.04774595, 0.74653584, 0.02610061, 0.08316126]\n",
      "Epoch number: 124 ; Loss [0.07128231, 0.017397942, 0.014111482, 0.051914327, 0.80790997, 0.0014218992, 0.08859486]\n",
      "Epoch number: 125 ; Loss [0.056761775, 0.01710236, 0.010519834, 0.050837345, 0.809461, 0.0071769212, 0.08880543]\n",
      "Epoch number: 126 ; Loss [0.07946117, 0.017878942, 0.018966647, 0.047247585, 0.79492706, 0.0128215775, 0.08527969]\n",
      "Epoch number: 127 ; Loss [0.059394084, 0.017812103, 0.021970056, 0.04570599, 0.76806515, 0.010846389, 0.079532616]\n",
      "Epoch number: 128 ; Loss [0.046578497, 0.018406551, 0.06928961, 0.043311425, 0.6758376, 0.065011315, 0.07153501]\n",
      "Epoch number: 129 ; Loss [0.07621261, 0.019349996, 0.082514584, 0.044085138, 0.68466324, 0.09023744, 0.07044024]\n",
      "Epoch number: 130 ; Loss [0.06312378, 0.017114675, 0.025103696, 0.051139, 0.7932419, 0.015197759, 0.07691473]\n",
      "Epoch number: 131 ; Loss [0.08063936, 0.018203683, 0.016523175, 0.04841587, 0.80664635, 0.0040420988, 0.08209621]\n",
      "Epoch number: 132 ; Loss [0.07561916, 0.01670071, 0.014141976, 0.04796378, 0.794685, 0.021874983, 0.080919206]\n",
      "Epoch number: 133 ; Loss [0.06710797, 0.017225223, 0.022320636, 0.044735912, 0.7916719, 0.010707712, 0.07621608]\n",
      "Epoch number: 134 ; Loss [0.09392301, 0.016607802, 0.042616423, 0.04257138, 0.73653716, 0.034012478, 0.07016879]\n",
      "Epoch number: 135 ; Loss [0.056257136, 0.016677981, 0.060955353, 0.042697266, 0.68536115, 0.06433252, 0.067702204]\n",
      "Epoch number: 136 ; Loss [0.06168598, 0.01842948, 0.06325135, 0.043868996, 0.6783802, 0.095007084, 0.06806489]\n",
      "Epoch number: 137 ; Loss [0.07081501, 0.02056025, 0.022080718, 0.044893045, 0.79423225, 0.0077908165, 0.078198105]\n",
      "Epoch number: 138 ; Loss [0.055848703, 0.015822792, 0.014470618, 0.046984613, 0.80364794, 0.0009341099, 0.08314139]\n",
      "Epoch number: 139 ; Loss [0.0696571, 0.016374655, 0.02252418, 0.045458533, 0.80995446, 0.0059166295, 0.08509534]\n",
      "Epoch number: 140 ; Loss [0.039090328, 0.015967676, 0.024129823, 0.045654327, 0.79062307, 0.008502016, 0.07875162]\n",
      "Epoch number: 141 ; Loss [0.07447098, 0.01797346, 0.06026487, 0.043005064, 0.69850826, 0.056955587, 0.07332772]\n",
      "Epoch number: 142 ; Loss [0.062947884, 0.018274486, 0.07160325, 0.04222682, 0.71867085, 0.06613386, 0.07022817]\n",
      "Epoch number: 143 ; Loss [0.064517416, 0.016951172, 0.07430268, 0.042355537, 0.6883855, 0.08039497, 0.0691592]\n",
      "Epoch number: 144 ; Loss [0.071762726, 0.016431404, 0.027641928, 0.045822505, 0.76922417, 0.012395355, 0.07404346]\n",
      "Epoch number: 145 ; Loss [0.07932306, 0.017395783, 0.021593038, 0.044368945, 0.79694086, 0.01488724, 0.078181565]\n",
      "Epoch number: 146 ; Loss [0.06322219, 0.016354352, 0.016754156, 0.044414125, 0.79728603, 0.00951071, 0.079841875]\n",
      "Epoch number: 147 ; Loss [0.059275813, 0.015879724, 0.01771982, 0.043581225, 0.82157445, 0.007953611, 0.07962018]\n"
     ]
    },
    {
     "name": "stdout",
     "output_type": "stream",
     "text": [
      "Epoch number: 148 ; Loss [0.09466758, 0.01549894, 0.026957463, 0.043199696, 0.79271907, 0.0171027, 0.07606223]\n",
      "Epoch number: 149 ; Loss [0.06563291, 0.015742362, 0.036555037, 0.03976715, 0.7366258, 0.04728506, 0.07083308]\n",
      "Epoch number: 150 ; Loss [0.060912937, 0.015210565, 0.053936478, 0.039831698, 0.7302506, 0.06041005, 0.067476295]\n",
      "Epoch number: 151 ; Loss [0.049637087, 0.014719909, 0.028813863, 0.04409623, 0.77350765, 0.023930546, 0.06989976]\n",
      "Epoch number: 152 ; Loss [0.05866979, 0.014924378, 0.017882718, 0.04391356, 0.77443624, 0.017569402, 0.072493054]\n",
      "Epoch number: 153 ; Loss [0.0835637, 0.01467254, 0.027663812, 0.044812307, 0.7839234, 0.009651346, 0.075095676]\n",
      "Epoch number: 154 ; Loss [0.049890038, 0.015003905, 0.020111157, 0.04470177, 0.78006405, 0.008358193, 0.077041656]\n",
      "Epoch number: 155 ; Loss [0.055663124, 0.015401226, 0.02890643, 0.044104993, 0.7691866, 0.022660967, 0.07389533]\n",
      "Epoch number: 156 ; Loss [0.054629453, 0.017979052, 0.06833436, 0.043887354, 0.70252633, 0.080981106, 0.06904072]\n",
      "Epoch number: 157 ; Loss [0.054552898, 0.01728122, 0.03978438, 0.045934215, 0.7778512, 0.018029755, 0.07349095]\n",
      "Epoch number: 158 ; Loss [0.061694033, 0.017617885, 0.025771016, 0.045610663, 0.8119018, 0.0117660025, 0.07708227]\n",
      "Epoch number: 159 ; Loss [0.05069837, 0.015637642, 0.016625125, 0.044274658, 0.8132651, 0.0063253455, 0.07826919]\n",
      "Epoch number: 160 ; Loss [0.050788693, 0.015376222, 0.0177145, 0.044120796, 0.80818325, 0.0017316305, 0.07596093]\n",
      "Epoch number: 161 ; Loss [0.04774778, 0.016199471, 0.02401347, 0.042082008, 0.7801924, 0.027475864, 0.07195384]\n",
      "Epoch number: 162 ; Loss [0.04534911, 0.01512086, 0.035572626, 0.040847257, 0.7279208, 0.051795535, 0.067775704]\n",
      "Epoch number: 163 ; Loss [0.053365406, 0.015504723, 0.039096124, 0.040867325, 0.7718739, 0.032150675, 0.06743589]\n",
      "Epoch number: 164 ; Loss [0.03793224, 0.014716563, 0.04176773, 0.04025858, 0.74114853, 0.04872243, 0.06563011]\n",
      "Epoch number: 165 ; Loss [0.06105947, 0.01681912, 0.041354053, 0.03903321, 0.7638993, 0.03249359, 0.06730188]\n",
      "Epoch number: 166 ; Loss [0.031572644, 0.0151287615, 0.02959508, 0.040544707, 0.7681508, 0.023467716, 0.06944726]\n",
      "Epoch number: 167 ; Loss [0.049764104, 0.015444073, 0.027061557, 0.04075162, 0.78443086, 0.03587931, 0.070003815]\n",
      "Epoch number: 168 ; Loss [0.026061567, 0.01476475, 0.01852175, 0.040763084, 0.7929176, 0.023773298, 0.069918625]\n",
      "Epoch number: 169 ; Loss [0.05720516, 0.014738378, 0.022449125, 0.043696772, 0.7989028, 0.013023154, 0.07198477]\n",
      "Epoch number: 170 ; Loss [0.0411975, 0.017300565, 0.01605643, 0.045535985, 0.80606323, 0.011681901, 0.074244104]\n",
      "Epoch number: 171 ; Loss [0.05458055, 0.014394381, 0.016655093, 0.043006558, 0.81623924, 0.00950245, 0.075236015]\n",
      "Epoch number: 172 ; Loss [0.038955737, 0.017709404, 0.017990978, 0.04624557, 0.8324629, 0.009054582, 0.07489311]\n",
      "Epoch number: 173 ; Loss [0.045866672, 0.016570495, 0.0366572, 0.043468565, 0.78757095, 0.02381099, 0.0706804]\n",
      "Epoch number: 174 ; Loss [0.05007069, 0.018296883, 0.050586853, 0.04111076, 0.72834516, 0.06582172, 0.066564895]\n",
      "Epoch number: 175 ; Loss [0.03141416, 0.016350722, 0.062441397, 0.0425272, 0.7575897, 0.049636006, 0.06759155]\n",
      "Epoch number: 176 ; Loss [0.038714357, 0.018022738, 0.02815115, 0.046135787, 0.7986538, 0.020396767, 0.076199524]\n",
      "Epoch number: 177 ; Loss [0.03893561, 0.016367193, 0.017510524, 0.049508996, 0.8268081, 0.008555218, 0.08213517]\n",
      "Epoch number: 178 ; Loss [0.047077656, 0.0161144, 0.020806814, 0.0480449, 0.8343764, 0.008548693, 0.08514331]\n",
      "Epoch number: 179 ; Loss [0.050741695, 0.016108878, 0.017733416, 0.049998887, 0.8388137, 0.0062456746, 0.08317372]\n",
      "Epoch number: 180 ; Loss [0.02994521, 0.016171386, 0.031085465, 0.046178695, 0.8132576, 0.034464672, 0.07635722]\n",
      "Epoch number: 181 ; Loss [0.036062144, 0.016136594, 0.026406411, 0.044355363, 0.7698165, 0.054518323, 0.07123665]\n",
      "Epoch number: 182 ; Loss [0.030864555, 0.015505934, 0.024664221, 0.045166552, 0.8232302, 0.009400392, 0.07571182]\n",
      "Epoch number: 183 ; Loss [0.038316168, 0.015105365, 0.018175004, 0.048369244, 0.83013886, 0.0055938587, 0.0748621]\n",
      "Epoch number: 184 ; Loss [0.041359957, 0.015875312, 0.023099072, 0.04528674, 0.8150048, 0.0046323542, 0.0710587]\n",
      "Epoch number: 185 ; Loss [0.041354362, 0.017261898, 0.04493721, 0.042640768, 0.8011978, 0.023936687, 0.065028526]\n",
      "Epoch number: 186 ; Loss [0.031754278, 0.015894257, 0.04659707, 0.04296742, 0.76089585, 0.06445063, 0.061590306]\n",
      "Epoch number: 187 ; Loss [0.027110295, 0.016147994, 0.04196583, 0.04563216, 0.78796434, 0.041314, 0.06598952]\n",
      "Epoch number: 188 ; Loss [0.038402002, 0.015265029, 0.019851262, 0.05012981, 0.8063589, 0.010381858, 0.07580388]\n",
      "Epoch number: 189 ; Loss [0.025987562, 0.015417042, 0.016753105, 0.0493643, 0.82725275, 0.004992526, 0.082098335]\n",
      "Epoch number: 190 ; Loss [0.04270976, 0.017272692, 0.018557722, 0.05031362, 0.82518697, 0.0052404497, 0.08386547]\n",
      "Epoch number: 191 ; Loss [0.025102904, 0.01710007, 0.025103444, 0.04958561, 0.8280736, 0.020763135, 0.080065936]\n",
      "Epoch number: 192 ; Loss [0.030277899, 0.016736742, 0.038011022, 0.044583783, 0.77544314, 0.036410317, 0.07483835]\n",
      "Epoch number: 193 ; Loss [0.03239092, 0.017534172, 0.042816997, 0.048649665, 0.7651178, 0.06232835, 0.073331885]\n",
      "Epoch number: 194 ; Loss [0.039843984, 0.015942592, 0.026086017, 0.049012, 0.82835567, 0.020523302, 0.07540365]\n",
      "Epoch number: 195 ; Loss [0.027894964, 0.016487349, 0.01159805, 0.05083159, 0.8225642, 0.0026237727, 0.07895091]\n",
      "Epoch number: 196 ; Loss [0.037591398, 0.017219534, 0.021417996, 0.050920337, 0.84472567, 0.004616011, 0.076627344]\n",
      "Epoch number: 197 ; Loss [0.037959702, 0.015910156, 0.018631969, 0.04766766, 0.8184236, 0.012250516, 0.074465215]\n",
      "Epoch number: 198 ; Loss [0.043181702, 0.016377205, 0.022709006, 0.045836926, 0.79372454, 0.013932025, 0.06791527]\n",
      "Epoch number: 199 ; Loss [0.033551756, 0.017337535, 0.04214226, 0.044312682, 0.7728213, 0.055769492, 0.06234812]\n"
     ]
    }
   ],
   "source": [
    "from Combined import Combined\n",
    "\n",
    "GAN, G, D, F = Combined([28,28,1], 'B')\n",
    "\n",
    "epochs=200\n",
    "batch_size=256\n",
    "\n",
    "target=5\n",
    "\n",
    "scalarloss = [0,0,0,0,0,0,0]\n",
    "for cur_epoch in range(epochs):\n",
    "    for discrm_epoch in range(4):\n",
    "        input_batch = x_train[np.random.randint(0, x_train.shape[0], size=int(batch_size)),]\n",
    "        if discrm_epoch % 2 == 1:\n",
    "            y_discrim = np.ones([batch_size,1])\n",
    "            scalarloss[:2] = D.train_on_batch(input_batch, [y_discrim, input_batch])[1:]\n",
    "        else:\n",
    "            input_batch = np.add(input_batch, G.predict(input_batch))\n",
    "            y_discrim = np.zeros([batch_size,1])\n",
    "            scalarloss[2:4] = D.train_on_batch(input_batch, [y_discrim, input_batch])[1:]\n",
    "        \n",
    "    input_idx = np.random.randint(0, x_train.shape[0], size=int(batch_size))\n",
    "    input_batch = x_train[input_idx,]\n",
    "    y_discrim = np.ones([batch_size,1])\n",
    "    y_class=np_utils.to_categorical(np.ones(batch_size)*target, 10).astype(np.float32)\n",
    "    y_hinge=np.zeros([batch_size,28,28,1])\n",
    "    scalarloss[4:] = GAN.train_on_batch(input_batch, [y_discrim, y_class, y_hinge])[1:]\n",
    "    print(\"Epoch number:\",cur_epoch,\"; Loss\",scalarloss)"
   ]
  },
  {
   "cell_type": "code",
   "execution_count": 10,
   "metadata": {},
   "outputs": [
    {
     "name": "stderr",
     "output_type": "stream",
     "text": [
      "/usr/local/lib/python3.5/dist-packages/keras/models.py:282: UserWarning: No training configuration found in save file: the model was *not* compiled. Compile it manually.\n",
      "  warnings.warn('No training configuration found in save file: '\n"
     ]
    }
   ],
   "source": [
    "APEADVG = keras.models.load_model('./models/APEGAN-AdvGANAllTarget-G.h5')\n",
    "APECWG = keras.models.load_model('./models/APEGAN-CW-G.h5')\n",
    "\n",
    "clean = x_test\n",
    "adv = clean + G.predict(clean)\n",
    "purified_cw = APECWG.predict(adv)\n",
    "purified_adv = APEADVG.predict(adv)\n",
    "label = np.argmax(y_test, axis=1)\n",
    "idx = (label != target)\n",
    "clean = clean[idx,]\n",
    "adv = adv[idx,]\n",
    "purified_cw = purified_cw[idx,]\n",
    "purified_adv = purified_adv[idx,]\n",
    "label = label[idx,]"
   ]
  },
  {
   "cell_type": "code",
   "execution_count": 11,
   "metadata": {},
   "outputs": [
    {
     "data": {
      "image/png": "[encoded data removed]",
      "text/plain": [
       "<Figure size 648x864 with 12 Axes>"
      ]
     },
     "metadata": {},
     "output_type": "display_data"
    }
   ],
   "source": [
    "import matplotlib.pyplot as plt\n",
    "\n",
    "fig=plt.figure(figsize=(9,12))\n",
    "start = 0\n",
    "for k in range(3):\n",
    "    fig.add_subplot(4,3,k+1)\n",
    "    plt.imshow((clean[start+k,] * 255).astype(np.int).reshape(28,28))\n",
    "    if k == 0:\n",
    "        plt.ylabel('Clean', fontsize=12)\n",
    "    fig.add_subplot(4,3,k+4)\n",
    "    plt.imshow((adv[start+k,] * 255).astype(np.int).reshape(28,28))\n",
    "    if k == 0:\n",
    "        plt.ylabel('Adversarial', fontsize=12)\n",
    "    fig.add_subplot(4,3,k+7)\n",
    "    plt.imshow((purified_cw[start+k,] * 255).astype(np.int).reshape(28,28))\n",
    "    if k == 0:\n",
    "        plt.ylabel('Reconst. Adv-APE-GAN', fontsize=12)\n",
    "    fig.add_subplot(4,3,k+10)\n",
    "    plt.imshow((purified_adv[start+k,] * 255).astype(np.int).reshape(28,28))\n",
    "    if k == 0:\n",
    "        plt.ylabel('Reconst. D-APE-GAN', fontsize=12)\n",
    "plt.show()"
   ]
  },
  {
   "cell_type": "code",
   "execution_count": 7,
   "metadata": {},
   "outputs": [
    {
     "name": "stderr",
     "output_type": "stream",
     "text": [
      "/usr/local/lib/python3.5/dist-packages/keras/models.py:282: UserWarning: No training configuration found in save file: the model was *not* compiled. Compile it manually.\n",
      "  warnings.warn('No training configuration found in save file: '\n"
     ]
    },
    {
     "name": "stdout",
     "output_type": "stream",
     "text": [
      "5, A : adv acc:0.1070, rct d acc:0.9813, rct adv acc:0.5149\n",
      "5, B : adv acc:0.0351, rct d acc:0.9829, rct adv acc:0.6644\n",
      "5, C : adv acc:0.0378, rct d acc:0.9758, rct adv acc:0.4506\n"
     ]
    }
   ],
   "source": [
    "classifier_name = ['A', 'B', 'C']\n",
    "APEADVG = keras.models.load_model('./models/APEGAN-AdvGANAllTarget-G.h5')\n",
    "APECWG = keras.models.load_model('./models/APEGAN-CW-G.h5')\n",
    "for cn in classifier_name:\n",
    "    BF = keras.models.load_model('../AdvGAN/models/Classifier-' + cn + '.h5')\n",
    "    adv_pdt = np.argmax(BF.predict(adv), axis=1)\n",
    "    purified1_pdt = np.argmax(BF.predict(APEADVG.predict(adv)), axis=1)\n",
    "    purified2_pdt = np.argmax(BF.predict(APECWG.predict(adv)), axis=1)\n",
    "    print('{}, {} : adv acc:{:.4f}, rct d acc:{:.4f}, rct adv acc:{:.4f}'.format(\n",
    "        target, cn, np.mean(adv_pdt==label), np.mean(purified1_pdt==label),\n",
    "        np.mean(purified2_pdt==label)\n",
    "    ))"
   ]
  },
  {
   "cell_type": "code",
   "execution_count": null,
   "metadata": {},
   "outputs": [],
   "source": []
  }
 ],
 "metadata": {
  "kernelspec": {
   "display_name": "Python 3",
   "language": "python",
   "name": "python3"
  },
  "language_info": {
   "codemirror_mode": {
    "name": "ipython",
    "version": 3
   },
   "file_extension": ".py",
   "mimetype": "text/x-python",
   "name": "python",
   "nbconvert_exporter": "python",
   "pygments_lexer": "ipython3",
   "version": "3.5.2"
  }
 },
 "nbformat": 4,
 "nbformat_minor": 2
}
