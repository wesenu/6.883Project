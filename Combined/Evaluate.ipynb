{
 "cells": [
  {
   "cell_type": "code",
   "execution_count": 1,
   "metadata": {},
   "outputs": [
    {
     "name": "stderr",
     "output_type": "stream",
     "text": [
      "/usr/local/lib/python3.5/dist-packages/h5py/__init__.py:36: FutureWarning: Conversion of the second argument of issubdtype from `float` to `np.floating` is deprecated. In future, it will be treated as `np.float64 == np.dtype(float).type`.\n",
      "  from ._conv import register_converters as _register_converters\n",
      "Using TensorFlow backend.\n"
     ]
    },
    {
     "name": "stdout",
     "output_type": "stream",
     "text": [
      "0, A : adv acc:0.1584, rec acc:0.1959\n",
      "0, B : adv acc:0.0000, rec acc:0.1669\n",
      "0, C : adv acc:0.2656, rec acc:0.2024\n",
      "1, A : adv acc:0.3391, rec acc:0.5930\n",
      "1, B : adv acc:0.0000, rec acc:0.5638\n",
      "1, C : adv acc:0.2381, rec acc:0.5795\n",
      "2, A : adv acc:0.1081, rec acc:0.7499\n",
      "2, B : adv acc:0.0000, rec acc:0.7497\n",
      "2, C : adv acc:0.1526, rec acc:0.7593\n",
      "3, A : adv acc:0.1852, rec acc:0.6270\n",
      "3, B : adv acc:0.0000, rec acc:0.6231\n",
      "3, C : adv acc:0.0816, rec acc:0.6168\n",
      "4, A : adv acc:0.1725, rec acc:0.7170\n",
      "4, B : adv acc:0.0000, rec acc:0.6887\n",
      "4, C : adv acc:0.0612, rec acc:0.6859\n",
      "5, A : adv acc:0.1044, rec acc:0.6757\n",
      "5, B : adv acc:0.0000, rec acc:0.6914\n",
      "5, C : adv acc:0.0085, rec acc:0.6410\n",
      "6, A : adv acc:0.1900, rec acc:0.6181\n",
      "6, B : adv acc:0.0000, rec acc:0.5998\n",
      "6, C : adv acc:0.0848, rec acc:0.6204\n",
      "7, A : adv acc:0.3561, rec acc:0.8080\n",
      "7, B : adv acc:0.0000, rec acc:0.8079\n",
      "7, C : adv acc:0.1717, rec acc:0.8076\n",
      "8, A : adv acc:0.1591, rec acc:0.3981\n",
      "8, B : adv acc:0.0000, rec acc:0.4229\n",
      "8, C : adv acc:0.1719, rec acc:0.3816\n",
      "9, A : adv acc:0.3314, rec acc:0.5841\n",
      "9, B : adv acc:0.0000, rec acc:0.5602\n",
      "9, C : adv acc:0.2404, rec acc:0.5632\n"
     ]
    }
   ],
   "source": [
    "import numpy as np\n",
    "import keras\n",
    "import keras.backend as K\n",
    "\n",
    "classifier_name = ['A', 'B', 'C']\n",
    "\n",
    "for target in range(0,10):\n",
    "    adv = np.load('../AdvGAN/samples/WB-B-t%d-adv.npy' % target)\n",
    "    rec = np.load('../DefenseGAN/results/reconstruct/WB-B-t%d-adv-defensegan-%d.npz' % (target, adv.shape[0]))['arr_0']\n",
    "    clean = np.load('../AdvGAN/samples/WB-B-t%d-clean.npy' % target)\n",
    "    label = np.load('../AdvGAN/samples/WB-B-t%d-label.npy' % target)\n",
    "    adv = adv[:rec.shape[0],]\n",
    "    clean = clean[:rec.shape[0],]\n",
    "    label = label[:rec.shape[0],]\n",
    "    num = label.shape[0]\n",
    "    for cn in classifier_name:\n",
    "        F = keras.models.load_model('../AdvGAN/models/Classifier-' + cn + '.h5')\n",
    "        pdt_adv = np.argmax(F.predict(adv[:num,]), axis=1)\n",
    "        pdt_rec = np.argmax(F.predict(rec[:num,]), axis=1)\n",
    "        adv_acc = np.sum(pdt_adv==label[:num,])/num\n",
    "        rec_acc = np.sum(pdt_rec==label[:num,])/num\n",
    "        print('{}, {} : adv acc:{:.4f}, rec acc:{:.4f}'.format(target, cn, adv_acc, rec_acc))"
   ]
  },
  {
   "cell_type": "code",
   "execution_count": 2,
   "metadata": {},
   "outputs": [
    {
     "data": {
      "text/plain": [
       "<Figure size 640x480 with 1 Axes>"
      ]
     },
     "metadata": {},
     "output_type": "display_data"
    },
    {
     "data": {
      "text/plain": [
       "<Figure size 640x480 with 1 Axes>"
      ]
     },
     "metadata": {},
     "output_type": "display_data"
    },
    {
     "data": {
      "text/plain": [
       "<Figure size 640x480 with 1 Axes>"
      ]
     },
     "metadata": {},
     "output_type": "display_data"
    },
    {
     "data": {
      "text/plain": [
       "<Figure size 640x480 with 1 Axes>"
      ]
     },
     "metadata": {},
     "output_type": "display_data"
    },
    {
     "data": {
      "text/plain": [
       "<Figure size 640x480 with 1 Axes>"
      ]
     },
     "metadata": {},
     "output_type": "display_data"
    },
    {
     "data": {
      "text/plain": [
       "<Figure size 640x480 with 1 Axes>"
      ]
     },
     "metadata": {},
     "output_type": "display_data"
    },
    {
     "data": {
      "text/plain": [
       "<Figure size 640x480 with 1 Axes>"
      ]
     },
     "metadata": {},
     "output_type": "display_data"
    },
    {
     "data": {
      "text/plain": [
       "<Figure size 640x480 with 1 Axes>"
      ]
     },
     "metadata": {},
     "output_type": "display_data"
    },
    {
     "data": {
      "text/plain": [
       "<Figure size 640x480 with 1 Axes>"
      ]
     },
     "metadata": {},
     "output_type": "display_data"
    },
    {
     "data": {
      "text/plain": [
       "<Figure size 640x480 with 1 Axes>"
      ]
     },
     "metadata": {},
     "output_type": "display_data"
    },
    {
     "data": {
      "text/plain": [
       "<Figure size 640x480 with 1 Axes>"
      ]
     },
     "metadata": {},
     "output_type": "display_data"
    },
    {
     "data": {
      "text/plain": [
       "<Figure size 640x480 with 1 Axes>"
      ]
     },
     "metadata": {},
     "output_type": "display_data"
    },
    {
     "data": {
      "text/plain": [
       "<Figure size 640x480 with 1 Axes>"
      ]
     },
     "metadata": {},
     "output_type": "display_data"
    },
    {
     "data": {
      "text/plain": [
       "<Figure size 640x480 with 1 Axes>"
      ]
     },
     "metadata": {},
     "output_type": "display_data"
    },
    {
     "data": {
      "text/plain": [
       "<Figure size 640x480 with 1 Axes>"
      ]
     },
     "metadata": {},
     "output_type": "display_data"
    },
    {
     "data": {
      "text/plain": [
       "<Figure size 640x480 with 1 Axes>"
      ]
     },
     "metadata": {},
     "output_type": "display_data"
    },
    {
     "data": {
      "text/plain": [
       "<Figure size 640x480 with 1 Axes>"
      ]
     },
     "metadata": {},
     "output_type": "display_data"
    },
    {
     "data": {
      "text/plain": [
       "<Figure size 640x480 with 1 Axes>"
      ]
     },
     "metadata": {},
     "output_type": "display_data"
    },
    {
     "data": {
      "text/plain": [
       "<Figure size 640x480 with 1 Axes>"
      ]
     },
     "metadata": {},
     "output_type": "display_data"
    },
    {
     "data": {
      "text/plain": [
       "<Figure size 640x480 with 1 Axes>"
      ]
     },
     "metadata": {},
     "output_type": "display_data"
    },
    {
     "data": {
      "text/plain": [
       "<Figure size 640x480 with 1 Axes>"
      ]
     },
     "metadata": {},
     "output_type": "display_data"
    },
    {
     "data": {
      "text/plain": [
       "<Figure size 640x480 with 1 Axes>"
      ]
     },
     "metadata": {},
     "output_type": "display_data"
    },
    {
     "data": {
      "text/plain": [
       "<Figure size 640x480 with 1 Axes>"
      ]
     },
     "metadata": {},
     "output_type": "display_data"
    },
    {
     "data": {
      "text/plain": [
       "<Figure size 640x480 with 1 Axes>"
      ]
     },
     "metadata": {},
     "output_type": "display_data"
    },
    {
     "data": {
      "text/plain": [
       "<Figure size 640x480 with 1 Axes>"
      ]
     },
     "metadata": {},
     "output_type": "display_data"
    },
    {
     "data": {
      "text/plain": [
       "<Figure size 640x480 with 1 Axes>"
      ]
     },
     "metadata": {},
     "output_type": "display_data"
    },
    {
     "data": {
      "text/plain": [
       "<Figure size 640x480 with 1 Axes>"
      ]
     },
     "metadata": {},
     "output_type": "display_data"
    },
    {
     "data": {
      "text/plain": [
       "<Figure size 640x480 with 1 Axes>"
      ]
     },
     "metadata": {},
     "output_type": "display_data"
    },
    {
     "data": {
      "text/plain": [
       "<Figure size 640x480 with 1 Axes>"
      ]
     },
     "metadata": {},
     "output_type": "display_data"
    },
    {
     "data": {
      "text/plain": [
       "<Figure size 640x480 with 1 Axes>"
      ]
     },
     "metadata": {},
     "output_type": "display_data"
    }
   ],
   "source": [
    "import matplotlib.pyplot as plt\n",
    "\n",
    "for i in range(10):\n",
    "    plt.imshow(adv[i,].reshape(28,28), cmap='gray')\n",
    "    plt.show()\n",
    "    plt.imshow(rec[i,].reshape(28,28), cmap='gray')\n",
    "    plt.show()\n",
    "    plt.imshow(clean[i,].reshape(28,28), cmap='gray')\n",
    "    plt.show()"
   ]
  },
  {
   "cell_type": "code",
   "execution_count": null,
   "metadata": {},
   "outputs": [],
   "source": []
  }
 ],
 "metadata": {
  "kernelspec": {
   "display_name": "Python 3",
   "language": "python",
   "name": "python3"
  },
  "language_info": {
   "codemirror_mode": {
    "name": "ipython",
    "version": 3
   },
   "file_extension": ".py",
   "mimetype": "text/x-python",
   "name": "python",
   "nbconvert_exporter": "python",
   "pygments_lexer": "ipython3",
   "version": "3.5.2"
  }
 },
 "nbformat": 4,
 "nbformat_minor": 2
}
